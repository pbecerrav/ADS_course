{
  "cells": [
    {
      "cell_type": "markdown",
      "metadata": {
        "id": "NTK34uxMjMYL"
      },
      "source": [
        "# Tutorial III: Fully connected NNs\n",
        "\n",
        "<p>\n",
        "Bern Winter School on Machine Learning, 2024<br>\n",
        "Prepared by Mykhailo Vladymyrov and Matthew Vowels.\n",
        "</p>\n",
        "\n",
        "This work is licensed under a <a href=\"http://creativecommons.org/licenses/by-nc-sa/4.0/\">Creative Commons Attribution-NonCommercial-ShareAlike 4.0 International License</a>.\n",
        "\n",
        "In this session we will create a fully-connected neural network to perform handwritten digit recognition using pytorch"
      ]
    },
    {
      "cell_type": "markdown",
      "metadata": {
        "id": "kmjKrW6WjS3K"
      },
      "source": [
        "## 1. Load necessary libraries\n",
        "\n"
      ]
    },
    {
      "cell_type": "code",
      "execution_count": 2,
      "metadata": {
        "id": "f8lKArr6jSgD"
      },
      "outputs": [
        {
          "name": "stdout",
          "output_type": "stream",
          "text": [
            "Collecting torchvision\n",
            "  Obtaining dependency information for torchvision from https://files.pythonhosted.org/packages/3b/0a/59f82c490e82c3f3671deb374b1d53e3285ff91b76cae46f99b5b3c3e2d7/torchvision-0.16.2-cp311-cp311-macosx_10_13_x86_64.whl.metadata\n",
            "  Downloading torchvision-0.16.2-cp311-cp311-macosx_10_13_x86_64.whl.metadata (6.6 kB)\n",
            "Requirement already satisfied: numpy in /Users/pbecerra/.pyenv/versions/anaconda3-2023.07-2/envs/CAS/lib/python3.11/site-packages (from torchvision) (1.24.3)\n",
            "Requirement already satisfied: requests in /Users/pbecerra/.pyenv/versions/anaconda3-2023.07-2/envs/CAS/lib/python3.11/site-packages (from torchvision) (2.31.0)\n",
            "Requirement already satisfied: torch==2.1.2 in /Users/pbecerra/.pyenv/versions/anaconda3-2023.07-2/envs/CAS/lib/python3.11/site-packages (from torchvision) (2.1.2)\n",
            "Requirement already satisfied: pillow!=8.3.*,>=5.3.0 in /Users/pbecerra/.pyenv/versions/anaconda3-2023.07-2/envs/CAS/lib/python3.11/site-packages (from torchvision) (10.0.0)\n",
            "Requirement already satisfied: filelock in /Users/pbecerra/.pyenv/versions/anaconda3-2023.07-2/envs/CAS/lib/python3.11/site-packages (from torch==2.1.2->torchvision) (3.13.1)\n",
            "Requirement already satisfied: typing-extensions in /Users/pbecerra/.pyenv/versions/anaconda3-2023.07-2/envs/CAS/lib/python3.11/site-packages (from torch==2.1.2->torchvision) (4.5.0)\n",
            "Requirement already satisfied: sympy in /Users/pbecerra/.pyenv/versions/anaconda3-2023.07-2/envs/CAS/lib/python3.11/site-packages (from torch==2.1.2->torchvision) (1.12)\n",
            "Requirement already satisfied: networkx in /Users/pbecerra/.pyenv/versions/anaconda3-2023.07-2/envs/CAS/lib/python3.11/site-packages (from torch==2.1.2->torchvision) (3.1)\n",
            "Requirement already satisfied: jinja2 in /Users/pbecerra/.pyenv/versions/anaconda3-2023.07-2/envs/CAS/lib/python3.11/site-packages (from torch==2.1.2->torchvision) (3.1.2)\n",
            "Requirement already satisfied: fsspec in /Users/pbecerra/.pyenv/versions/anaconda3-2023.07-2/envs/CAS/lib/python3.11/site-packages (from torch==2.1.2->torchvision) (2023.12.2)\n",
            "Requirement already satisfied: charset-normalizer<4,>=2 in /Users/pbecerra/.pyenv/versions/anaconda3-2023.07-2/envs/CAS/lib/python3.11/site-packages (from requests->torchvision) (2.0.4)\n",
            "Requirement already satisfied: idna<4,>=2.5 in /Users/pbecerra/.pyenv/versions/anaconda3-2023.07-2/envs/CAS/lib/python3.11/site-packages (from requests->torchvision) (3.4)\n",
            "Requirement already satisfied: urllib3<3,>=1.21.1 in /Users/pbecerra/.pyenv/versions/anaconda3-2023.07-2/envs/CAS/lib/python3.11/site-packages (from requests->torchvision) (1.26.16)\n",
            "Requirement already satisfied: certifi>=2017.4.17 in /Users/pbecerra/.pyenv/versions/anaconda3-2023.07-2/envs/CAS/lib/python3.11/site-packages (from requests->torchvision) (2023.7.22)\n",
            "Requirement already satisfied: MarkupSafe>=2.0 in /Users/pbecerra/.pyenv/versions/anaconda3-2023.07-2/envs/CAS/lib/python3.11/site-packages (from jinja2->torch==2.1.2->torchvision) (2.1.1)\n",
            "Requirement already satisfied: mpmath>=0.19 in /Users/pbecerra/.pyenv/versions/anaconda3-2023.07-2/envs/CAS/lib/python3.11/site-packages (from sympy->torch==2.1.2->torchvision) (1.3.0)\n",
            "Downloading torchvision-0.16.2-cp311-cp311-macosx_10_13_x86_64.whl (1.6 MB)\n",
            "\u001b[2K   \u001b[90m━━━━━━━━━━━━━━━━━━━━━━━━━━━━━━━━━━━━━━━━\u001b[0m \u001b[32m1.6/1.6 MB\u001b[0m \u001b[31m3.1 MB/s\u001b[0m eta \u001b[36m0:00:00\u001b[0m00:01\u001b[0m00:01\u001b[0m0m\n",
            "\u001b[?25hInstalling collected packages: torchvision\n",
            "Successfully installed torchvision-0.16.2\n"
          ]
        }
      ],
      "source": [
        "import os\n",
        "import sys\n",
        "import tarfile\n",
        "import requests\n",
        "\n",
        "import random\n",
        "import numpy as np\n",
        "import matplotlib.pyplot as plt\n",
        "\n",
        "import torch\n",
        "import torch.nn as nn\n",
        "import torch.nn.functional as F\n",
        "import torch.optim as optim\n",
        "\n",
        "#!pip install torchvision\n",
        "from torchvision import datasets, transforms\n",
        "import torch.utils.data\n",
        "from torch.utils.data import TensorDataset, DataLoader\n",
        "\n",
        "\n",
        "\n",
        "# URL of the file to download\n",
        "#url = 'https://github.com/neworldemancer/BMLWS/raw/main/tut_files/tpub0320.tgz'\n",
        "\n",
        "# Path where the file will be saved\n",
        "#path = os.path.abspath('.') + '/material.tgz'\n",
        "\n",
        "# Download the file\n",
        "#response = requests.get(url)\n",
        "#assert response.status_code == 200, \"Download failed\"\n",
        "#with open(path, 'wb') as file:\n",
        "#    file.write(response.content)\n",
        "\n",
        "# Check if the path is correct\n",
        "#assert os.path.exists(path), \"File not found\"\n",
        "\n",
        "# Extract the tar file\n",
        "#tar = tarfile.open(path, \"r:gz\")\n",
        "#tar.extractall()\n",
        "#tar.close()"
      ]
    },
    {
      "cell_type": "markdown",
      "metadata": {
        "id": "hZvqLoJF5jy2"
      },
      "source": [
        "## 2. Training loop\n",
        "\n",
        "The training as we just saw is done iteratively, by adjusting the model parameters.\n",
        "\n",
        "We perform optimization several times for all traininng dataset. Going through all this dataset is refered to as 'epoch'.\n",
        "\n",
        "When we do training its usually done in two loops. In outer loop we iterate over all epochs. For each epoch we usually split the dataset into small chuncks, batches, and optimization it performed for all of those.\n",
        "\n",
        "It is important that data doesn't go to the training pipeline in same order. So the overall scheme looks like this (pseudocode):\n",
        "\n",
        "\n",
        "```\n",
        "x,y = get_training_data()\n",
        "for epoch in range(number_epochs):\n",
        "   x_shfl,y_shfl = shuffle(x,y)\n",
        "   \n",
        "   for mb_idx in range(number_minibatches_in_batch):\n",
        "       x_mb,y_mb = get_minibatch(x_shfl,y_shfl, mb_idx)\n",
        "       \n",
        "       optimize_on(data=x_mb, labels=y_mb)\n",
        "```"
      ]
    },
    {
      "cell_type": "markdown",
      "metadata": {
        "id": "x_-ZD3CC8A4m"
      },
      "source": [
        "## 3. Bulding blocks of a neural network\n",
        "\n",
        "Neural network consists of layers of neurons. \n",
        "\n",
        "Each neuron performs 2 operations.\n",
        "\n",
        "1. Calculate the linear transformation of the input vector $\\mathbf{x}_i$:\n",
        "\n",
        "$$\\mathbf{z}_i = \\mathbf{w} \\cdot \\mathbf{x}_i + b = \\sum_j {w_j x_{ij}} + b$$ \n",
        "\n",
        "where $\\mathbf{w}$ is a weight vector and $b$ a bias, and $j$ traverses each dimension of the input vector\n",
        "\n",
        "2. Perform the nonlinear transformation of the result using the activation function $f$ $$y_i = f(z_i)$$\n",
        "\n",
        "In a fully connected neural network, each layer is a set of N neurons, performing different transformations of the input $\\mathbf{x}_i$ of the same layer, now producing an output **vector** $ \\mathbf{y} _i = f(\\mathbf{z}_i) = f(W\\mathbf{x}_i + \\mathbf{b})$ with a bias vector $\\mathbf{b}$ and a **matrix** of weights $W$.\n",
        "\n",
        "Since the output of each layer constitutes the input to the next layer, we can write for layer $l$: $$\\mathbf{x}^l_i = f^{l-1}(\\mathbf{W}^{ l-1} \\mathbf{x}^{ l-1}_i + \\mathbf{b}^{l-1})$$ where $\\mathbf{x}_i^{l=0}$ is the vector d 'network input for data point $i$."
      ]
    },
    {
      "cell_type": "markdown",
      "metadata": {
        "id": "uZx9PQEj8GTe"
      },
      "source": [
        "\n",
        "\n",
        "<img src=\"https://github.com/neworldemancer/BMLWS/raw/main/figures/MLP.png\" alt=\"drawing\" width=\"50%\"/>\n",
        "\n",
        "To simplify building the network, we'll define a helper function, creating neuron layer with given number of outputs:"
      ]
    },
    {
      "cell_type": "code",
      "execution_count": 3,
      "metadata": {
        "id": "DK65Jnay77j-"
      },
      "outputs": [],
      "source": [
        "\n",
        "class Dense(nn.Module):\n",
        "    def __init__(self, units, activation=None):\n",
        "        \"\"\"\n",
        "        Fully connected layer.\n",
        "\n",
        "        Parameters\n",
        "        ----------\n",
        "        units : int\n",
        "            Number of output neurons\n",
        "        activation : None or callable, optional\n",
        "            Non-linear activation function (e.g., torch.nn.functional.relu)\n",
        "        \"\"\"\n",
        "        super(Dense, self).__init__()\n",
        "        self.units = units\n",
        "        self.activation = activation\n",
        "\n",
        "        # Initialize the weights and biases\n",
        "        self.linear = nn.Linear(in_features=units, out_features=units)\n",
        "\n",
        "    def forward(self, inputs):\n",
        "        # Apply linear transformation\n",
        "        outputs = self.linear(inputs)\n",
        "\n",
        "        # Apply activation function if provided\n",
        "        if self.activation is not None:\n",
        "            outputs = self.activation(outputs)\n",
        "\n",
        "        return outputs\n"
      ]
    },
    {
      "cell_type": "markdown",
      "metadata": {
        "id": "GQzdb_ZP8fxg"
      },
      "source": [
        "In the case of multi-class classification, in the last layer, we can use the *softmax* transformation as a non-linear transformation. The softmax for the $j$th element of $\\mathbf{z}_i$ is $$y_{ij} = \\frac{e^{z_{ij}}}{\\sum_{k=1}^{K} e^{z_{ik}}}$$ where $K$ is the total number of classes.\n",
        "\n",
        "\n",
        "For example. before softmax $$[1.0, 2.0, 3.0, \\mathbf{4.0} ]$$ and after: $$[0.0321, 0.0871, 0.2369, \\mathbf{0.6439}]$$ (now the sum is equal to one)\n",
        "\n",
        "We can also now compare the fundamental truth which could be $$[0,0,0,\\mathbf{1}]$$ That is to say that class 4 is the good class and that the network predicted correctly.\n",
        "\n",
        "\n",
        "\n",
        "The **optimization/loss function** in multiclass classification problems is multiclass cross-entropy:\n",
        "\n",
        "$$\\mathcal{L}_i = - \\sum_{k=1}^K y^*_{ik} \\log(y_{ik})$$ \n",
        "\n",
        "where $y^*_{ik}$ is the *kth* component of the unique true label vector $\\mathbf{y}^*_i$, and $y_{ik}$ is the *kth* component of the predicted probability vector $\\mathbf{y}_i$.\n",
        "\n",
        "$$[0.0321, 0.0871, 0.2369, \\mathbf{0.6439}] = [y_{i1}, y_{i2}, y_{i3}, y_{i4}]$$"
      ]
    },
    {
      "cell_type": "markdown",
      "metadata": {
        "id": "U0I6wPiH8lIn"
      },
      "source": [
        "## 4. Structure of a neural network"
      ]
    },
    {
      "cell_type": "code",
      "execution_count": 49,
      "metadata": {
        "id": "Qo8IDRWI8ohv"
      },
      "outputs": [],
      "source": [
        "class MyModel(nn.Module):\n",
        "    def __init__(self, n_input, n_hidden, n_output):\n",
        "        super(MyModel, self).__init__()\n",
        "        # Layer 1: 10 inputs -> 4, with sigmoid activation\n",
        "        self.l1 = nn.Linear(n_input, n_hidden)\n",
        "\n",
        "        # Layer 2: 4 inputs -> n_output, with softmax activation\n",
        "        self.l2 = nn.Linear(n_hidden, n_output)\n",
        "\n",
        "    def forward(self, x):\n",
        "        # Apply first layer and sigmoid activation\n",
        "        x = torch.sigmoid(self.l1(x))\n",
        "\n",
        "        # Apply second layer\n",
        "        l2_output = self.l2(x)\n",
        "\n",
        "        # Apply softmax activation\n",
        "        l2_softmax = F.softmax(l2_output, dim=1)\n",
        "\n",
        "        # Prediction: argmax for classification\n",
        "        pred = torch.argmax(l2_softmax, dim=1)\n",
        "\n",
        "        return l2_softmax, pred"
      ]
    },
    {
      "cell_type": "markdown",
      "metadata": {
        "id": "OyxjipoN9dfS"
      },
      "source": [
        "## 5. Load the data\n",
        "\n",
        "First we will load the data: 60000 training images and 10000 images for validation with some included data transformations.\n",
        "\n",
        "Each image is a 28x28 pixels. For this model we will interpret it as a 1D array of 784 elements."
      ]
    },
    {
      "cell_type": "code",
      "execution_count": 50,
      "metadata": {
        "colab": {
          "base_uri": "https://localhost:8080/"
        },
        "id": "O-EivCFK87eQ",
        "outputId": "05c48ef9-ae85-4e90-e968-b10680b67a6f"
      },
      "outputs": [
        {
          "name": "stdout",
          "output_type": "stream",
          "text": [
            "Train dataset shape: 60000 total images and labels\n",
            "Test dataset shape: 10000 total images and labels\n"
          ]
        }
      ],
      "source": [
        "# Define a transform to normalize the data:\n",
        "# Transforms to a tensor first\n",
        "# Normalises values second\n",
        "# Flattens image next\n",
        "transform = transforms.Compose([transforms.ToTensor(),\n",
        "                                transforms.Normalize((0.5,), (0.5,)),\n",
        "                                transforms.Lambda(lambda x: torch.flatten(x))])\n",
        "\n",
        "# Download and load the training data\n",
        "trainset = datasets.MNIST('~/.pytorch/MNIST_data/', download=True, train=True, transform=transform)\n",
        "trainloader = DataLoader(trainset, batch_size=64, shuffle=True)\n",
        "\n",
        "# Download and load the test data\n",
        "testset = datasets.MNIST('~/.pytorch/MNIST_data/', download=True, train=False, transform=transform)\n",
        "testloader = DataLoader(testset, batch_size=64, shuffle=True)\n",
        "\n",
        "# Print shapes of the datasets\n",
        "print('Train dataset shape:', len(trainset), 'total images and labels')\n",
        "print('Test dataset shape:', len(testset), 'total images and labels')"
      ]
    },
    {
      "cell_type": "code",
      "execution_count": 51,
      "metadata": {},
      "outputs": [
        {
          "name": "stdout",
          "output_type": "stream",
          "text": [
            "torch.Size([784]) 5\n"
          ]
        }
      ],
      "source": [
        "#Inspecting the trainset\n",
        "for el in trainset:\n",
        "    x,y = el\n",
        "    print(x.shape, y)\n",
        "    break"
      ]
    },
    {
      "cell_type": "code",
      "execution_count": 52,
      "metadata": {},
      "outputs": [
        {
          "name": "stdout",
          "output_type": "stream",
          "text": [
            "torch.Size([64, 784]) torch.Size([64])\n"
          ]
        }
      ],
      "source": [
        "#Inspecting the trainset\n",
        "for el in trainloader:\n",
        "    x,y = el\n",
        "    print(x.shape, y.shape)\n",
        "    break"
      ]
    },
    {
      "cell_type": "markdown",
      "metadata": {
        "id": "Z8Rjh7My9pFB"
      },
      "source": [
        " Let's take a look at some of the example images"
      ]
    },
    {
      "cell_type": "code",
      "execution_count": 53,
      "metadata": {
        "colab": {
          "base_uri": "https://localhost:8080/",
          "height": 363
        },
        "id": "wIgya80r9ABY",
        "outputId": "7af80d9b-c121-4f95-ba5d-f74150c9ca89"
      },
      "outputs": [
        {
          "data": {
            "image/png": "[encoded data removed]",
            "text/plain": [
              "<Figure size 1000x1000 with 5 Axes>"
            ]
          },
          "metadata": {},
          "output_type": "display_data"
        },
        {
          "data": {
            "image/png": "[encoded data removed]",
            "text/plain": [
              "<Figure size 1000x1000 with 5 Axes>"
            ]
          },
          "metadata": {},
          "output_type": "display_data"
        }
      ],
      "source": [
        "def show_images(images, labels, num_images=5):\n",
        "    plt.figure(figsize=(10, 10))\n",
        "    for i in range(num_images):\n",
        "        plt.subplot(1, num_images, i+1)\n",
        "        plt.xticks([])\n",
        "        plt.yticks([])\n",
        "        plt.grid(False)\n",
        "        # Reshape the flattened images back to 28x28 for display\n",
        "        plt.imshow(images[i].numpy().reshape(28, 28), cmap='gray')\n",
        "        plt.xlabel('Label: {}'.format(labels[i].item()))\n",
        "    plt.show()\n",
        "\n",
        "# Function to get random images and labels from a dataset\n",
        "def get_random_images(loader, num_images=5):\n",
        "    dataiter = iter(loader)\n",
        "    images, labels = next(dataiter)\n",
        "    indices = list(range(len(images)))\n",
        "    random_indices = random.sample(indices, num_images)\n",
        "    random_images = images[random_indices]\n",
        "    random_labels = labels[random_indices]\n",
        "    return random_images, random_labels\n",
        "\n",
        "# Get random images and labels from the training set\n",
        "random_images, random_labels = get_random_images(trainloader, num_images=5)\n",
        "# Show images\n",
        "show_images(random_images, random_labels, num_images=5)\n",
        "\n",
        "# and for the test set:\n",
        "random_images, random_labels = get_random_images(testloader, num_images=5)\n",
        "show_images(random_images, random_labels, num_images=5)\n",
        "\n"
      ]
    },
    {
      "cell_type": "markdown",
      "metadata": {
        "id": "ZM0bbfI4-4Ii"
      },
      "source": [
        "Check out the dimensions of the data"
      ]
    },
    {
      "cell_type": "code",
      "execution_count": 54,
      "metadata": {
        "colab": {
          "base_uri": "https://localhost:8080/"
        },
        "id": "1L2cggGn948g",
        "outputId": "5e3ca1fd-a9b0-4da6-ecd8-9a943d71b2ba"
      },
      "outputs": [
        {
          "name": "stdout",
          "output_type": "stream",
          "text": [
            "Shape of the images: torch.Size([5, 784])\n",
            "Shape of the labels: torch.Size([5])\n",
            "tensor([2, 7, 1, 0, 6])\n"
          ]
        }
      ],
      "source": [
        "\n",
        "# Inspect the dimensions of the sample elements\n",
        "print(\"Shape of the images:\", random_images.shape)\n",
        "print(\"Shape of the labels:\", random_labels.shape)\n",
        "print(random_labels)"
      ]
    },
    {
      "cell_type": "markdown",
      "metadata": {
        "id": "z6jMPCtL_3TR"
      },
      "source": [
        "## 6. Bulding a neural network\n",
        "\n",
        "Number of inputs for neurons will be given by input data, i.e. image dims (flattened), size. Output - by number of classes, 10 in our case."
      ]
    },
    {
      "cell_type": "code",
      "execution_count": 60,
      "metadata": {
        "id": "EYGX-9RP-6B4"
      },
      "outputs": [],
      "source": [
        "n_hidden = 100\n",
        "model = MyModel(n_input=784, n_hidden=n_hidden, n_output=10)  # 784 input features for 28x28 images, 10 output classes\n",
        "\n",
        "# Loss function\n",
        "criterion = nn.CrossEntropyLoss()\n",
        "\n",
        "# Optimizer (e.g., Adam)\n",
        "optimizer = optim.Adam(model.parameters(), lr=0.001)\n"
      ]
    },
    {
      "cell_type": "markdown",
      "metadata": {
        "id": "f5o71gymAA9h"
      },
      "source": [
        "Defining a training function:"
      ]
    },
    {
      "cell_type": "code",
      "execution_count": 61,
      "metadata": {
        "id": "dTrUXsn1_04A"
      },
      "outputs": [],
      "source": [
        "def train(model, trainloader, criterion, optimizer):\n",
        "    \"\"\"\n",
        "    Function to train the neural network model on the training dataset.\n",
        "\n",
        "    Parameters:\n",
        "    -----------\n",
        "    model : torch.nn.Module\n",
        "        The neural network model to be trained.\n",
        "    trainloader : torch.utils.data.DataLoader\n",
        "        DataLoader for the training dataset.\n",
        "    criterion : torch.nn.modules.loss._Loss\n",
        "        Loss function used for training the model.\n",
        "    optimizer : torch.optim.Optimizer\n",
        "        Optimization algorithm for updating the model parameters.\n",
        "\n",
        "    Returns:\n",
        "    --------\n",
        "    float\n",
        "        Average loss (cost) on the training dataset.\n",
        "    \"\"\"\n",
        "\n",
        "    model.train()               # Set the model to training phase\n",
        "    running_loss = 0.0          # Initialize a floating-point value for the loss\n",
        "\n",
        "    for images, labels in trainloader:   # Iterate through the batches in the trainloader\n",
        "        optimizer.zero_grad()            # Reset gradients\n",
        "        output, _ = model(images)     # Forward pass through the model\n",
        "        loss = criterion(output, labels) # Compute the loss\n",
        "        loss.backward()                  # Compute gradients\n",
        "        optimizer.step()                 # Update parameters with gradients\n",
        "        running_loss += loss.item()      # Update the numerical value of the loss\n",
        "\n",
        "    return running_loss / len(trainloader)  # Output the average loss on the training dataset\n"
      ]
    },
    {
      "cell_type": "markdown",
      "metadata": {
        "id": "bdMh6wDbADtZ"
      },
      "source": [
        "Defining a testing function:"
      ]
    },
    {
      "cell_type": "code",
      "execution_count": 64,
      "metadata": {
        "id": "u7h2JtuFADQA"
      },
      "outputs": [],
      "source": [
        "def test(model, testloader, criterion):\n",
        "    \"\"\"\n",
        "    Function to evaluate the model on the test dataset.\n",
        "\n",
        "    Parameters:\n",
        "    -----------\n",
        "    model : torch.nn.Module\n",
        "        The neural network model to be evaluated.\n",
        "    testloader : torch.utils.data.DataLoader\n",
        "        DataLoader for the test dataset.\n",
        "    criterion : torch.nn.modules.loss._Loss\n",
        "        Loss function used for evaluating the model.\n",
        "\n",
        "    Returns:\n",
        "    --------\n",
        "    float\n",
        "        Average loss (cost) on the test dataset.\n",
        "    \"\"\"\n",
        "    model.eval()                  # Set the model to evaluation mode\n",
        "    running_loss = 0.0            # Initialize a floating-point value for the loss\n",
        "    #n_correct = 0\n",
        "    with torch.no_grad():         # Disable gradient computation during testing\n",
        "        for images, labels in testloader:      # Iterate through the batches in the testloader\n",
        "            output, _ = model(images) # Forward pass through the model\n",
        "            loss = criterion(output, labels)   # Compute the loss\n",
        "            running_loss += loss.item()        # Update the numerical value of the loss\n",
        "            #correct = torch.sum(pred == labels)\n",
        "            #n_correct =+ correct\n",
        "    return running_loss / len(testloader)  # Output the average loss on the test dataset"
      ]
    },
    {
      "cell_type": "markdown",
      "metadata": {
        "id": "OGvXGVvaAH_g"
      },
      "source": [
        "Training the model"
      ]
    },
    {
      "cell_type": "code",
      "execution_count": 65,
      "metadata": {
        "colab": {
          "base_uri": "https://localhost:8080/"
        },
        "id": "B34VjSa2AGsf",
        "outputId": "d0edc97e-39c5-4cc6-e920-7b01cf392c18"
      },
      "outputs": [
        {
          "name": "stdout",
          "output_type": "stream",
          "text": [
            "Epoch 1/10, Train Loss: 1.5525, Test Loss: 1.5365\n",
            "Epoch 2/10, Train Loss: 1.5335, Test Loss: 1.5290\n",
            "Epoch 3/10, Train Loss: 1.5226, Test Loss: 1.5183\n",
            "Epoch 4/10, Train Loss: 1.5148, Test Loss: 1.5165\n",
            "Epoch 5/10, Train Loss: 1.5094, Test Loss: 1.5162\n",
            "Epoch 6/10, Train Loss: 1.5048, Test Loss: 1.5104\n",
            "Epoch 7/10, Train Loss: 1.5015, Test Loss: 1.5040\n",
            "Epoch 8/10, Train Loss: 1.4982, Test Loss: 1.5050\n",
            "Epoch 9/10, Train Loss: 1.4957, Test Loss: 1.5036\n",
            "Epoch 10/10, Train Loss: 1.4930, Test Loss: 1.4986\n"
          ]
        }
      ],
      "source": [
        "# Training the model\n",
        "\n",
        "num_epochs = 10           # Number of training epochs\n",
        "train_losses = []         # List to store training losses for each epoch\n",
        "test_losses = []          # List to store test losses for each epoch\n",
        "\n",
        "# Training loop\n",
        "for epoch in range(num_epochs):\n",
        "    # Train the model on the training dataset and compute the training loss\n",
        "    train_loss = train(model, trainloader, criterion, optimizer)\n",
        "    \n",
        "    # Evaluate the model on the test dataset and compute the test loss\n",
        "    test_loss = test(model, testloader, criterion)\n",
        "\n",
        "    # Append the training and test losses to their respective lists\n",
        "    train_losses.append(train_loss)\n",
        "    test_losses.append(test_loss)\n",
        "\n",
        "    # Print the current epoch, training loss, and test loss\n",
        "    print(f'Epoch {epoch+1}/{num_epochs}, Train Loss: {train_loss:.4f}, Test Loss: {test_loss:.4f}')\n"
      ]
    },
    {
      "cell_type": "markdown",
      "metadata": {
        "id": "XjNpSOZ8BdTA"
      },
      "source": [
        "Visualize the loss curves"
      ]
    },
    {
      "cell_type": "code",
      "execution_count": 66,
      "metadata": {
        "colab": {
          "base_uri": "https://localhost:8080/",
          "height": 465
        },
        "id": "tQNq_xOGAJc_",
        "outputId": "1ff04f7e-4ae1-44f2-a667-c26f71f9bfb9"
      },
      "outputs": [
        {
          "data": {
            "image/png": "[encoded data removed]",
            "text/plain": [
              "<Figure size 1000x500 with 1 Axes>"
            ]
          },
          "metadata": {},
          "output_type": "display_data"
        }
      ],
      "source": [
        "# Plotting the loss curves\n",
        "\n",
        "fig, ax = plt.subplots(figsize=(10, 5))\n",
        "ax.plot(range(num_epochs), train_losses, label='Training Loss')\n",
        "ax.plot(range(num_epochs), test_losses, label='Test Loss')\n",
        "ax.set_xlabel('Epoch')\n",
        "ax.set_ylabel('Loss')\n",
        "ax.legend(loc='upper right')\n",
        "plt.show()"
      ]
    },
    {
      "cell_type": "markdown",
      "metadata": {
        "id": "WJxx2VgNBrJw"
      },
      "source": [
        "Evaluate network performance using a basic accuracy metric:\n",
        "\n",
        "$$\\mathbf{Acc}= \\frac{1}{N}\\sum_{i=1}^N \\mathbb{I}(y_i = y^*_i)$$\n",
        "\n",
        "where $\\mathbb{I}()$ is the indicator function.\n",
        "\n",
        "\n",
        "Also investigate what an incorrect prediction looks like..."
      ]
    },
    {
      "cell_type": "code",
      "execution_count": 67,
      "metadata": {
        "colab": {
          "base_uri": "https://localhost:8080/"
        },
        "id": "ogO__Cv9BtYO",
        "outputId": "10410324-588c-4ae1-cd96-88fea733d5ac"
      },
      "outputs": [
        {
          "name": "stdout",
          "output_type": "stream",
          "text": [
            "Accuracy: 0.9686\n"
          ]
        }
      ],
      "source": [
        "def get_predictions(model, loader):\n",
        "    \"\"\"\n",
        "    Function to obtain predictions, true labels, and input images from a given DataLoader.\n",
        "\n",
        "    Parameters:\n",
        "    -----------\n",
        "    model : torch.nn.Module\n",
        "        The neural network model used for making predictions.\n",
        "    loader : torch.utils.data.DataLoader\n",
        "        DataLoader for the dataset from which predictions, labels, and images are obtained.\n",
        "\n",
        "    Returns:\n",
        "    --------\n",
        "    tuple\n",
        "        A tuple containing predictions (list), true labels (list), and input images (list).\n",
        "    \"\"\"\n",
        "\n",
        "    model.eval()                   # Set the model to evaluation mode\n",
        "    predictions = []               # List to store model predictions\n",
        "    labels = []                    # List to store true labels\n",
        "    images_list = []               # List to store input images\n",
        "\n",
        "    with torch.no_grad():          # Disable gradient computation during prediction\n",
        "        for images, label in loader:  # Iterate through batches in the loader\n",
        "            output, _ = model(images)     # Forward pass through the model\n",
        "            pred = output.argmax(dim=1)   # Obtain the predicted class with the highest probability\n",
        "            predictions.extend(pred.tolist())  # Extend the predictions list\n",
        "            labels.extend(label.tolist())      # Extend the true labels list\n",
        "            images_list.extend(images)         # Extend the list of input images\n",
        "\n",
        "    return predictions, labels, images_list  # Output predictions, true labels, and input images as a tuple\n",
        "\n",
        "\n",
        "def calculate_accuracy(predictions, labels):\n",
        "    \"\"\"\n",
        "    Function to calculate accuracy given a list of predictions and true labels.\n",
        "\n",
        "    Parameters:\n",
        "    -----------\n",
        "    predictions : list\n",
        "        List of predicted class labels.\n",
        "    labels : list\n",
        "        List of true class labels.\n",
        "\n",
        "    Returns:\n",
        "    --------\n",
        "    float\n",
        "        Accuracy calculated as the ratio of correctly predicted samples to the total number of samples.\n",
        "    \"\"\"\n",
        "\n",
        "    correct = sum(pred == label for pred, label in zip(predictions, labels))  # Count the correct predictions\n",
        "    total = len(labels)  # Total number of samples\n",
        "    accuracy = correct / total  # Calculate accuracy as the ratio of correct predictions to the total\n",
        "\n",
        "    return accuracy  # Output the calculated accuracy as a float\n",
        "\n",
        "\n",
        "# Get predictions, labels, and images\n",
        "predictions, labels, images_list = get_predictions(model, testloader)\n",
        "correct = [pred == label for pred, label in zip(predictions, labels)]\n",
        "\n",
        "accuracy = calculate_accuracy(predictions, labels)\n",
        "\n",
        "print(f\"Accuracy: {accuracy}\")"
      ]
    },
    {
      "cell_type": "markdown",
      "metadata": {
        "id": "E43y5wzgEkO6"
      },
      "source": [
        "Aggregate a correct and incorrect example and visualize:"
      ]
    },
    {
      "cell_type": "code",
      "execution_count": 68,
      "metadata": {
        "colab": {
          "base_uri": "https://localhost:8080/",
          "height": 923
        },
        "id": "M_XRml4MB4AG",
        "outputId": "f4b342e1-d5b4-4fd7-8f4a-c246f1de4529"
      },
      "outputs": [
        {
          "name": "stdout",
          "output_type": "stream",
          "text": [
            "First incorrect digit is at index: 35\n"
          ]
        },
        {
          "data": {
            "image/png": "[encoded data removed]",
            "text/plain": [
              "<Figure size 640x480 with 1 Axes>"
            ]
          },
          "metadata": {},
          "output_type": "display_data"
        },
        {
          "name": "stdout",
          "output_type": "stream",
          "text": [
            "First correct digit is at index: 0\n"
          ]
        },
        {
          "data": {
            "image/png": "[encoded data removed]",
            "text/plain": [
              "<Figure size 640x480 with 1 Axes>"
            ]
          },
          "metadata": {},
          "output_type": "display_data"
        }
      ],
      "source": [
        "\n",
        "# Find the index of the first incorrect and correct prediction\n",
        "wrong_idx = next((i for i, correct in enumerate(correct) if not correct), None)\n",
        "correct_idx = next((i for i, correct in enumerate(correct) if correct), None)\n",
        "\n",
        "# Function to display an image\n",
        "def display_image(image, title):\n",
        "    plt.imshow(image.numpy().reshape(28, 28), cmap='gray')\n",
        "    plt.title(title)\n",
        "    plt.show()\n",
        "\n",
        "# Display the first incorrect digit (if any incorrect are found)\n",
        "if wrong_idx is not None:\n",
        "    print(f\"First incorrect digit is at index: {wrong_idx}\")\n",
        "    display_image(images_list[wrong_idx], f\"Predicted: {predictions[wrong_idx]}, Actual: {labels[wrong_idx]}\")\n",
        "else:\n",
        "    print(\"No incorrect predictions found\")\n",
        "\n",
        "# Display the first correct digit (if any correct are found)\n",
        "if correct_idx is not None:\n",
        "    print(f\"First correct digit is at index: {correct_idx}\")\n",
        "    display_image(images_list[correct_idx], f\"Predicted: {predictions[correct_idx]}, Correct: {labels[correct_idx]}\")\n",
        "else:\n",
        "    print(\"No correct predictions found\")"
      ]
    },
    {
      "cell_type": "markdown",
      "metadata": {
        "id": "IvrCUICwExDB"
      },
      "source": [
        "## 7. Visualizing the Parameters\n",
        "\n",
        "The learned model parameters W1 are a matrix of weights that show importance of each input pixel (784) for each of the 10 outputs."
      ]
    },
    {
      "cell_type": "code",
      "execution_count": 41,
      "metadata": {},
      "outputs": [
        {
          "name": "stdout",
          "output_type": "stream",
          "text": [
            "torch.Size([100, 784]) torch.Size([100])\n"
          ]
        }
      ],
      "source": [
        "w1, b1 = model.l1.weight.data, model.l1.bias.data\n",
        "print(w1.shape, b1.shape)"
      ]
    },
    {
      "cell_type": "code",
      "execution_count": 40,
      "metadata": {
        "colab": {
          "base_uri": "https://localhost:8080/",
          "height": 140
        },
        "id": "kpuGXde1DL1t",
        "outputId": "3e08979b-b783-4246-d8ad-28c7909f70eb"
      },
      "outputs": [
        {
          "name": "stdout",
          "output_type": "stream",
          "text": [
            "torch.Size([100, 784]) torch.Size([100])\n"
          ]
        },
        {
          "data": {
            "image/png": "[encoded data removed]",
            "text/plain": [
              "<Figure size 1300x500 with 100 Axes>"
            ]
          },
          "metadata": {},
          "output_type": "display_data"
        }
      ],
      "source": [
        "w1_reshaped = w1.view(n_hidden, 28, 28)  # Adjust the view dimensions as per your layer's configuration\n",
        "\n",
        "# Plotting the weights\n",
        "_, axs = plt.subplots(1, n_hidden, figsize=(13, 5))\n",
        "for i in range(10):\n",
        "    axs[i].imshow(w1_reshaped[i].numpy(), cmap='plasma', interpolation='nearest')\n",
        "    axs[i].grid(False)\n",
        "    axs[i].axis('off')\n",
        "plt.show()"
      ]
    },
    {
      "cell_type": "markdown",
      "metadata": {
        "id": "zH6SLtqXLSwg"
      },
      "source": [
        "Here we classify images into 10 classes. But think of it: does the network know, or need to know that those were images? For the network each image is just a list of 784 values. And it finds that there is a pattern.\n",
        "\n",
        "In the same way one can feed any other bunch of numbers, and the network will try its best to figure out a relational pattern between these."
      ]
    },
    {
      "cell_type": "code",
      "execution_count": 31,
      "metadata": {
        "id": "KgZYX8zQh-gb"
      },
      "outputs": [],
      "source": [
        "def get_predictions(model, loader):\n",
        "    model.eval()\n",
        "    predictions = []\n",
        "    labels = []\n",
        "    images_list = []\n",
        "    with torch.no_grad():\n",
        "        for images, label in loader:\n",
        "            output, _ = model(images)\n",
        "            pred = output.argmax(dim=1)\n",
        "            predictions.extend(pred.tolist())\n",
        "            labels.extend(label.tolist())\n",
        "            images_list.extend(images)\n",
        "    return predictions, labels, images_list\n",
        "\n",
        "def calculate_accuracy(predictions, labels):\n",
        "    correct = sum(pred == label for pred, label in zip(predictions, labels))\n",
        "    total = len(labels)\n",
        "    accuracy = correct / total\n",
        "    return accuracy"
      ]
    },
    {
      "cell_type": "code",
      "execution_count": 32,
      "metadata": {
        "id": "Kk6Y9MM1h-l-"
      },
      "outputs": [
        {
          "name": "stdout",
          "output_type": "stream",
          "text": [
            "Accuracy: 0.9109\n"
          ]
        }
      ],
      "source": [
        "predictions, labels, images_list = get_predictions(model, testloader)  # TEST\n",
        "\n",
        "accuracy = calculate_accuracy(predictions, labels)\n",
        "\n",
        "print(f\"Accuracy: {accuracy}\")"
      ]
    },
    {
      "cell_type": "markdown",
      "metadata": {
        "id": "Hjw4ZIz1LZZ3"
      },
      "source": [
        "## 8. Exercise 1\n",
        "\n",
        "Build a network with two layers, first with `tf.nn.relu` ReLU activation and 1500 neurons and second one with 10 and softmax activation. Start with `learning_rate` of 0.001 and find optimal value."
      ]
    },
    {
      "cell_type": "markdown",
      "metadata": {
        "id": "gDS2USefLdp_"
      },
      "source": [
        "## 9. Gradients visualization"
      ]
    },
    {
      "cell_type": "markdown",
      "metadata": {
        "id": "el8EtuqKMC_v"
      },
      "source": [
        "We will display several images, and corresponding gradients of maximal output activation, as well as all activations. This might help better understand how our network processes the imput data."
      ]
    },
    {
      "cell_type": "code",
      "execution_count": null,
      "metadata": {
        "id": "5WGirHW5K-On"
      },
      "outputs": [],
      "source": [
        "model.eval()\n",
        "grads_all_classes = []\n",
        "\n",
        "\n",
        "# The code uses torch.autograd.grad to compute the gradients of the model's predictions with respect to the input image.\n",
        "# This essentially answers the question, \"How does changing each pixel in the input image affect the model's confidence in its prediction for each class (digit)?\"\n",
        "\n",
        "# For each digit class (0 to 9), the code computes a separate gradient map.\n",
        "# It does so by setting grad_outputs to a tensor that is all zeros except for a one at the current class's position.\n",
        "# This way, the computed gradient reflects how much each pixel in the input image contributes to the model's prediction for that specific class.\n",
        "\n",
        "dataiter = iter(trainloader)\n",
        "images, labels = next(dataiter)\n",
        "\n",
        "# Choose an index and select a single image and label\n",
        "idx = 1\n",
        "inp_v = images[idx:idx+1]  # Selecting the image\n",
        "img = inp_v.squeeze()  # The original 2D image for display\n",
        "\n",
        "# Enable gradients for input\n",
        "inp_v.requires_grad = True\n",
        "\n",
        "# Forward pass and compute gradients\n",
        "model.eval()\n",
        "with torch.set_grad_enabled(True):\n",
        "    preds = model(inp_v)[0]  # Assuming the model returns a tuple (output, argmax)\n",
        "    for i in range(preds.size(1)):  # Iterate over each class\n",
        "        grad_outputs = torch.zeros_like(preds)\n",
        "        grad_outputs[0, i] = 1\n",
        "        grads = torch.autograd.grad(outputs=preds, inputs=inp_v, grad_outputs=grad_outputs, create_graph=True)[0]\n",
        "        grads_all_classes.append(grads)\n",
        "\n",
        "# Stack all gradients and reshape to desired format\n",
        "grads_stacked = torch.stack(grads_all_classes).view(preds.size(1), 28, 28).detach().numpy()\n",
        "\n"
      ]
    },
    {
      "cell_type": "markdown",
      "metadata": {
        "id": "bZ2y6f3BaWBl"
      },
      "source": [
        "Each of the following subplots shows the gradient map for a particular class. These maps can be interpreted as heatmaps indicating which regions of the input image are most critical for the model's prediction of that particular digit.\n",
        "Brighter areas in a gradient map indicate pixels that, if changed, would have a larger impact on the model's prediction for that class. This can give insights into what features the model is focusing on for each class.\n",
        "\n",
        "\n",
        "https://medium.com/geekculture/how-visualizations-help-make-sense-of-deep-learning-a408ab00688f\n"
      ]
    },
    {
      "cell_type": "code",
      "execution_count": null,
      "metadata": {
        "colab": {
          "base_uri": "https://localhost:8080/",
          "height": 217
        },
        "id": "_UQWUFI4Magu",
        "outputId": "71905004-4bd4-4fee-96b5-671ec69b5433"
      },
      "outputs": [
        {
          "data": {
            "image/png": "[encoded data removed]",
            "text/plain": [
              "<Figure size 4510x400 with 11 Axes>"
            ]
          },
          "metadata": {},
          "output_type": "display_data"
        }
      ],
      "source": [
        "# Each of the following subplots shows the gradient map for a particular class.\n",
        "# These maps can be interpreted as heatmaps indicating which regions of the input image are most critical for the model's prediction of that particular digit.\n",
        "# Brighter areas in a gradient map indicate pixels that, if changed, would have a larger impact on the model's prediction for that class.\n",
        "# This can give insights into what features the model is focusing on for each class.\n",
        "\n",
        "# Reshape the flattened image back to 2D for display\n",
        "img_2d = img.view(28, 28).numpy()\n",
        "\n",
        "# Plotting\n",
        "fig, axs = plt.subplots(1, 11, figsize=(4.1 * 11, 4))\n",
        "axs[0].imshow(img_2d, cmap='gray')  # Display the reshaped original image\n",
        "axs[0].set_title('raw')\n",
        "vmin, vmax = grads_stacked.min(), grads_stacked.max()\n",
        "\n",
        "\n",
        "for i, g in enumerate(grads_stacked):\n",
        "    axs[i + 1].imshow(g, cmap='gray', vmin=vmin, vmax=vmax)\n",
        "    axs[i + 1].set_title(r'$\\frac{\\partial\\;P(digit\\,%d)}{\\partial\\;input}$' % i, fontdict={'size': 16})\n",
        "\n",
        "plt.show()"
      ]
    },
    {
      "cell_type": "markdown",
      "metadata": {},
      "source": [
        "## 10. Exercise 2"
      ]
    },
    {
      "cell_type": "markdown",
      "metadata": {
        "id": "hUXFJ9H8bUJx"
      },
      "source": [
        "### Group 1\n",
        "Build the network with 3 or more layers. Try to get test accuracy >98.5%.\n",
        "Better to copy and modify the previous code so that you can compare against the code/results above."
      ]
    },
    {
      "cell_type": "code",
      "execution_count": 44,
      "metadata": {},
      "outputs": [],
      "source": [
        "class MyModel2(nn.Module):\n",
        "    def __init__(self, n_input, n_hidden, n_output):\n",
        "        super(MyModel2, self).__init__()\n",
        "\n",
        "        self.ls = []  # List to store the hidden layers\n",
        "        n_prev = n_input  # Initialize the number of previous neurons to the input size\n",
        "\n",
        "        # Loop to create hidden layers\n",
        "        for i, n_out in enumerate(n_hidden):\n",
        "            # Create a linear layer with the previous and current layer sizes\n",
        "            l = nn.Linear(n_prev, n_out)\n",
        "            n_prev = n_out  # Update the number of previous neurons to the current layer size\n",
        "            self.add_module(f'lin_{i}_{n_out}', l)  # Add the linear layer as a module\n",
        "            self.ls.append(l)  # Append the linear layer to the list\n",
        "\n",
        "        # Create the output layer\n",
        "        self.lout = nn.Linear(n_prev, n_output)\n",
        "\n",
        "    def forward(self, x):\n",
        "        h = x  # Initialize h with the input tensor\n",
        "        for li in self.ls:\n",
        "            h = li(h)  # Apply linear transformation\n",
        "            h = torch.relu(h)  # Apply ReLU activation function\n",
        "\n",
        "        logits = self.lout(h)  # Apply the final linear transformation\n",
        "        # Apply softmax activation\n",
        "        probs = F.softmax(logits, dim=1)\n",
        "\n",
        "        # Prediction: argmax for classification\n",
        "        pred = torch.argmax(probs, dim=1)\n",
        "\n",
        "        return logits, probs, pred\n"
      ]
    },
    {
      "cell_type": "code",
      "execution_count": 46,
      "metadata": {},
      "outputs": [],
      "source": [
        "n_hidden = [100]\n",
        "model = MyModel2(n_input=784, n_hidden=n_hidden, n_output=10)  # 784 input features for 28x28 images, 10 output classes\n",
        "\n",
        "# Loss function\n",
        "criterion = nn.CrossEntropyLoss()\n",
        "\n",
        "# Optimizer (e.g., Adam)\n",
        "optimizer = optim.Adam(model.parameters(), lr=0.001)\n"
      ]
    },
    {
      "cell_type": "markdown",
      "metadata": {},
      "source": [
        "### Group 2\n",
        "\n",
        "You can repeat the same for a regression problem: here you will have just 1 output in the last layer, with no activation - to predict continuous unboud range. You can use the `mse` or `mae` loss. Compare results with a baseline linear / random forest model.\n",
        "\n",
        "How many parameters does your model have as compared to number of samples?"
      ]
    },
    {
      "cell_type": "code",
      "execution_count": null,
      "metadata": {
        "colab": {
          "base_uri": "https://localhost:8080/",
          "height": 650
        },
        "id": "qFH8uQbtMx6u",
        "outputId": "3f5d244a-ccaa-47b3-a6fe-94d9d8b6379f"
      },
      "outputs": [
        {
          "name": "stdout",
          "output_type": "stream",
          "text": [
            "Epoch 1/10, Train Loss: 2.0871, Test Loss: 1.4788\n",
            "Epoch 2/10, Train Loss: 1.1713, Test Loss: 0.9885\n",
            "Epoch 3/10, Train Loss: 0.9138, Test Loss: 0.8448\n",
            "Epoch 4/10, Train Loss: 0.8048, Test Loss: 0.7582\n",
            "Epoch 5/10, Train Loss: 0.7253, Test Loss: 0.6911\n",
            "Epoch 6/10, Train Loss: 0.6662, Test Loss: 0.6387\n",
            "Epoch 7/10, Train Loss: 0.6165, Test Loss: 0.5958\n",
            "Epoch 8/10, Train Loss: 0.5771, Test Loss: 0.5612\n",
            "Epoch 9/10, Train Loss: 0.5443, Test Loss: 0.5316\n",
            "Epoch 10/10, Train Loss: 0.5162, Test Loss: 0.5071\n"
          ]
        },
        {
          "data": {
            "image/png": "[encoded data removed]",
            "text/plain": [
              "<Figure size 1000x500 with 1 Axes>"
            ]
          },
          "metadata": {},
          "output_type": "display_data"
        }
      ],
      "source": [
        "\n",
        "\n",
        "# example solution code for Group 2:\n",
        "from sklearn.datasets import fetch_california_housing\n",
        "from sklearn.model_selection import train_test_split\n",
        "from sklearn.preprocessing import StandardScaler\n",
        "from sklearn.ensemble import RandomForestRegressor\n",
        "from sklearn.metrics import mean_squared_error\n",
        "\n",
        "# Load Boston Housing dataset\n",
        "cali = fetch_california_housing()\n",
        "X, y = cali.data, cali.target\n",
        "\n",
        "# Split the dataset into training and testing sets\n",
        "x_train, x_test, y_train, y_test = train_test_split(X, y, test_size=0.33, random_state=42)\n",
        "\n",
        "y_train, y_test = y_train.reshape(-1, 1), y_test.reshape(-1, 1)\n",
        "\n",
        "# Normalize the data\n",
        "scaler = StandardScaler()\n",
        "x_train = scaler.fit_transform(x_train)\n",
        "x_test = scaler.transform(x_test)\n",
        "\n",
        "# Convert to PyTorch tensors\n",
        "x_train = torch.tensor(x_train, dtype=torch.float32)\n",
        "y_train = torch.tensor(y_train, dtype=torch.float32)\n",
        "x_test = torch.tensor(x_test, dtype=torch.float32)\n",
        "y_test = torch.tensor(y_test, dtype=torch.float32)\n",
        "\n",
        "train_dataset = TensorDataset(x_train, y_train)\n",
        "test_dataset = TensorDataset(x_test, y_test)\n",
        "\n",
        "# Define a batch size\n",
        "batch_size = 64\n",
        "\n",
        "# Create DataLoaders for training and testing data\n",
        "trainloader = DataLoader(train_dataset, batch_size=batch_size, shuffle=True)\n",
        "testloader = DataLoader(test_dataset, batch_size=batch_size, shuffle=False)\n",
        "\n",
        "\n",
        "\n",
        "class MyRegressor(nn.Module):\n",
        "    def __init__(self, n_input, n_hidden, n_output):\n",
        "        super(MyRegressor, self).__init__()\n",
        "        # Layer 1: 10 inputs -> 4, with sigmoid activation\n",
        "        self.l1 = nn.Linear(n_input, n_hidden)\n",
        "\n",
        "        # Layer 2: 4 inputs -> n_output, with softmax activation\n",
        "        self.l2 = nn.Linear(n_hidden, n_output)\n",
        "\n",
        "    def forward(self, x):\n",
        "        # Apply first layer and sigmoid activation\n",
        "        x = torch.sigmoid(self.l1(x))\n",
        "        return self.l2(x), self.l2(x)  # ugly workaround to make it compatible with earlier functions\n",
        "\n",
        "\n",
        "\n",
        "n_input = x_train.shape[1]  # Number of features in the Boston Housing dataset\n",
        "n_hidden = 4  # Example number of hidden units\n",
        "n_output = 1  # Regression output\n",
        "\n",
        "model = MyRegressor(n_input=n_input, n_hidden=n_hidden, n_output=n_output)\n",
        "\n",
        "criterion = nn.MSELoss()  # For regression, Mean Squared Error Loss\n",
        "optimizer = optim.Adam(model.parameters(), lr=0.001)\n",
        "\n",
        "# Train the model\n",
        "num_epochs = 10\n",
        "train_losses = []\n",
        "test_losses = []\n",
        "for epoch in range(num_epochs):\n",
        "    train_loss = train(model, trainloader, criterion, optimizer)\n",
        "    test_loss = test(model, testloader, criterion)\n",
        "\n",
        "    train_losses.append(train_loss)\n",
        "    test_losses.append(test_loss)\n",
        "\n",
        "    print(f'Epoch {epoch+1}/{num_epochs}, Train Loss: {train_loss:.4f}, Test Loss: {test_loss:.4f}')\n",
        "\n",
        "\n",
        "# Plotting\n",
        "fig, ax = plt.subplots(figsize=(10, 5))\n",
        "ax.plot(range(num_epochs), train_losses, label='Training Loss')\n",
        "ax.plot(range(num_epochs), test_losses, label='Test Loss')\n",
        "ax.set_xlabel('Epoch')\n",
        "ax.set_ylabel('Loss')\n",
        "ax.legend(loc='upper right')\n",
        "plt.show()"
      ]
    },
    {
      "cell_type": "code",
      "execution_count": null,
      "metadata": {
        "colab": {
          "base_uri": "https://localhost:8080/"
        },
        "id": "JWQj9BKmb6cO",
        "outputId": "6349e7cd-e61a-4bf6-c4fd-2c486b715053"
      },
      "outputs": [
        {
          "name": "stdout",
          "output_type": "stream",
          "text": [
            "Random Forest Test Loss: 0.2593\n"
          ]
        }
      ],
      "source": [
        "rf = RandomForestRegressor()\n",
        "\n",
        "# Train the random forest model\n",
        "rf.fit(x_train, y_train[:,0])\n",
        "\n",
        "# Predict on the test set\n",
        "rf_predictions = rf.predict(x_test)\n",
        "\n",
        "# Calculate the test loss (MSE)\n",
        "rf_test_loss = mean_squared_error(y_test, rf_predictions)\n",
        "print(f'Random Forest Test Loss: {rf_test_loss:.4f}')"
      ]
    },
    {
      "cell_type": "code",
      "execution_count": null,
      "metadata": {
        "id": "-f8DIi_VcQhl"
      },
      "outputs": [],
      "source": []
    },
    {
      "cell_type": "code",
      "execution_count": null,
      "metadata": {
        "id": "Opvg5YH_eIHR"
      },
      "outputs": [],
      "source": []
    }
  ],
  "metadata": {
    "colab": {
      "provenance": []
    },
    "kernelspec": {
      "display_name": "Python 3",
      "name": "python3"
    },
    "language_info": {
      "codemirror_mode": {
        "name": "ipython",
        "version": 3
      },
      "file_extension": ".py",
      "mimetype": "text/x-python",
      "name": "python",
      "nbconvert_exporter": "python",
      "pygments_lexer": "ipython3",
      "version": "3.11.4"
    }
  },
  "nbformat": 4,
  "nbformat_minor": 0
}
