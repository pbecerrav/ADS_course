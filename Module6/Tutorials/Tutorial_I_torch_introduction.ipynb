{
  "cells": [
    {
      "cell_type": "markdown",
      "metadata": {
        "id": "gg8g6scvTgnS"
      },
      "source": [
        "# Tutorial I: Introduction to PyTorch (torch)\n",
        "<p>\n",
        "Bern Winter School on Machine Learning, 2024<br>\n",
        "Prepared by Mykhailo Vladymyrov and Matthew Vowels.\n",
        "</p>\n",
        "\n",
        "This work is licensed under a <a href=\"http://creativecommons.org/licenses/by-nc-sa/4.0/\">Creative Commons Attribution-NonCommercial-ShareAlike 4.0 International License</a>.\n",
        "\n",
        "In this tutorial session we will get familiar wtih:\n",
        "* How to do optimization in torch and what possibilities does that open to data science\n",
        "* how to apply that to virtually any practical problem\n",
        "   * unordered/tabular data\n",
        "   * data with continuous dimensions\n",
        "   * sequential data\n",
        "\n",
        "\n",
        "\n",
        "torch provides a high-level interface, allowing easy implementation.\n",
        "\n",
        "While it is easy to use, some fundamental conceps can remain a bit obscured, but we will try to clarify that in the course."
      ]
    },
    {
      "cell_type": "markdown",
      "metadata": {
        "id": "fALIgdeITg55"
      },
      "source": [
        "## 00. Requirements\n",
        "\n",
        "To run this notebooks you need torch and numpy installed.\n",
        "As some parts of this tutorial rely on specific functions, it's strongly advised to use the Chrome browser or Chromium derivatives.\n",
        "\n",
        "Basic knowledge of Python can be acquired [here](https://docs.python.org/3/tutorial/) and of Numpy [here](https://docs.scipy.org/doc/numpy/user/quickstart.html)\n",
        "\n",
        "Full documentation on torch functions is available in the [reference](https://pytorch.org/docs/stable/index.html).\n"
      ]
    },
    {
      "cell_type": "markdown",
      "metadata": {
        "id": "87oX-c-FTg_J"
      },
      "source": [
        "## 0. Cell execution\n",
        "\n",
        "> Indented block\n",
        "Press ``Ctrl+Enter`` or ``Shift+Enter`` on the next cell to execute the content\n"
      ]
    },
    {
      "cell_type": "code",
      "execution_count": 1,
      "metadata": {
        "id": "xlblJm2DUL7Q"
      },
      "outputs": [
        {
          "name": "stdout",
          "output_type": "stream",
          "text": [
            "It works\n"
          ]
        }
      ],
      "source": [
        "print('It works')"
      ]
    },
    {
      "cell_type": "markdown",
      "metadata": {
        "id": "ASNnoSiUURJB"
      },
      "source": [
        "Navigate between cells with arrows. Press `Enter` to edit cell, `Esc` to exit."
      ]
    },
    {
      "cell_type": "markdown",
      "metadata": {
        "id": "XMZ1Z7s-UaxJ"
      },
      "source": [
        "## 1. Load necessary libraries"
      ]
    },
    {
      "cell_type": "code",
      "execution_count": 3,
      "metadata": {
        "id": "rE6mOT8aUR6o"
      },
      "outputs": [
        {
          "name": "stdout",
          "output_type": "stream",
          "text": [
            "Collecting torch\n",
            "  Obtaining dependency information for torch from https://files.pythonhosted.org/packages/dd/a0/6dd8662895ddaffb0ac689037451f93a73e9030d07b1b5965e3e3071f873/torch-2.1.2-cp311-none-macosx_10_9_x86_64.whl.metadata\n",
            "  Downloading torch-2.1.2-cp311-none-macosx_10_9_x86_64.whl.metadata (25 kB)\n",
            "Collecting filelock (from torch)\n",
            "  Obtaining dependency information for filelock from https://files.pythonhosted.org/packages/81/54/84d42a0bee35edba99dee7b59a8d4970eccdd44b99fe728ed912106fc781/filelock-3.13.1-py3-none-any.whl.metadata\n",
            "  Downloading filelock-3.13.1-py3-none-any.whl.metadata (2.8 kB)\n",
            "Requirement already satisfied: typing-extensions in /Users/pbecerra/.pyenv/versions/anaconda3-2023.07-2/envs/CAS/lib/python3.11/site-packages (from torch) (4.5.0)\n",
            "Collecting sympy (from torch)\n",
            "  Downloading sympy-1.12-py3-none-any.whl (5.7 MB)\n",
            "\u001b[2K     \u001b[90m━━━━━━━━━━━━━━━━━━━━━━━━━━━━━━━━━━━━━━━━\u001b[0m \u001b[32m5.7/5.7 MB\u001b[0m \u001b[31m919.4 kB/s\u001b[0m eta \u001b[36m0:00:00\u001b[0m00:01\u001b[0m00:01\u001b[0m\n",
            "\u001b[?25hRequirement already satisfied: networkx in /Users/pbecerra/.pyenv/versions/anaconda3-2023.07-2/envs/CAS/lib/python3.11/site-packages (from torch) (3.1)\n",
            "Requirement already satisfied: jinja2 in /Users/pbecerra/.pyenv/versions/anaconda3-2023.07-2/envs/CAS/lib/python3.11/site-packages (from torch) (3.1.2)\n",
            "Collecting fsspec (from torch)\n",
            "  Obtaining dependency information for fsspec from https://files.pythonhosted.org/packages/70/25/fab23259a52ece5670dcb8452e1af34b89e6135ecc17cd4b54b4b479eac6/fsspec-2023.12.2-py3-none-any.whl.metadata\n",
            "  Downloading fsspec-2023.12.2-py3-none-any.whl.metadata (6.8 kB)\n",
            "Requirement already satisfied: MarkupSafe>=2.0 in /Users/pbecerra/.pyenv/versions/anaconda3-2023.07-2/envs/CAS/lib/python3.11/site-packages (from jinja2->torch) (2.1.1)\n",
            "Collecting mpmath>=0.19 (from sympy->torch)\n",
            "  Downloading mpmath-1.3.0-py3-none-any.whl (536 kB)\n",
            "\u001b[2K     \u001b[90m━━━━━━━━━━━━━━━━━━━━━━━━━━━━━━━━━━━━━\u001b[0m \u001b[32m536.2/536.2 kB\u001b[0m \u001b[31m706.9 kB/s\u001b[0m eta \u001b[36m0:00:00\u001b[0m00:01\u001b[0m00:01\u001b[0m\n",
            "\u001b[?25hDownloading torch-2.1.2-cp311-none-macosx_10_9_x86_64.whl (146.7 MB)\n",
            "\u001b[2K   \u001b[90m━━━━━━━━━━━━━━━━━━━━━━━━━━━━━━━━━━━━━━━\u001b[0m \u001b[32m146.7/146.7 MB\u001b[0m \u001b[31m419.4 kB/s\u001b[0m eta \u001b[36m0:00:00\u001b[0m00:01\u001b[0m00:10\u001b[0m\n",
            "\u001b[?25hDownloading filelock-3.13.1-py3-none-any.whl (11 kB)\n",
            "Downloading fsspec-2023.12.2-py3-none-any.whl (168 kB)\n",
            "\u001b[2K   \u001b[90m━━━━━━━━━━━━━━━━━━━━━━━━━━━━━━━━━━━━━━━\u001b[0m \u001b[32m169.0/169.0 kB\u001b[0m \u001b[31m473.7 kB/s\u001b[0m eta \u001b[36m0:00:00\u001b[0ma \u001b[36m0:00:01\u001b[0m\n",
            "\u001b[?25hInstalling collected packages: mpmath, sympy, fsspec, filelock, torch\n",
            "Successfully installed filelock-3.13.1 fsspec-2023.12.2 mpmath-1.3.0 sympy-1.12 torch-2.1.2\n"
          ]
        }
      ],
      "source": [
        "import os\n",
        "import sys\n",
        "import tarfile\n",
        "import requests\n",
        "\n",
        "import numpy as np\n",
        "import matplotlib.pyplot as plt\n",
        "\n",
        "!pip install torch\n",
        "import torch\n",
        "import torch.nn as nn\n",
        "import torch.nn.functional as F\n",
        "import torch.optim as optim\n"
      ]
    },
    {
      "cell_type": "markdown",
      "metadata": {
        "id": "JmER6N64ZUZP"
      },
      "source": [
        "### Download libraries"
      ]
    },
    {
      "cell_type": "code",
      "execution_count": 4,
      "metadata": {
        "id": "Sl58R8WeUf0a"
      },
      "outputs": [],
      "source": [
        "\n",
        "\n",
        "# URL of the file to download\n",
        "url = 'https://github.com/neworldemancer/BMLWS/raw/main/tut_files/tpub0320.tgz'\n",
        "\n",
        "# Path where the file will be saved\n",
        "path = os.path.abspath('.') + '/material.tgz'\n",
        "\n",
        "# Download the file\n",
        "response = requests.get(url)\n",
        "assert response.status_code == 200, \"Download failed\"\n",
        "with open(path, 'wb') as file:\n",
        "    file.write(response.content)\n",
        "\n",
        "# Check if the path is correct\n",
        "assert os.path.exists(path), \"File not found\"\n",
        "\n",
        "# Extract the tar file\n",
        "tar = tarfile.open(path, \"r:gz\")\n",
        "tar.extractall()\n",
        "tar.close()"
      ]
    },
    {
      "cell_type": "markdown",
      "metadata": {
        "id": "5p2LCP4zaAgP"
      },
      "source": [
        "## 2. Create our first model\n",
        "\n",
        "First we need to define the input for the model. We will create `Input`, where during the excecution we will feed in the input values."
      ]
    },
    {
      "cell_type": "code",
      "execution_count": 5,
      "metadata": {
        "id": "RjEsEDZbZV5P"
      },
      "outputs": [],
      "source": [
        "class SimpleModel(nn.Module):\n",
        "    def __init__(self):\n",
        "        super(SimpleModel, self).__init__()\n",
        "\n",
        "    def forward(self, x):\n",
        "        out1 = x + 2\n",
        "        return x * out1\n",
        "\n",
        "# Create an instance of the model\n",
        "model = SimpleModel()\n",
        "\n",
        "# Example of using the model with dummy input\n",
        "input_tensor = torch.tensor(1.0)  # Example input\n",
        "output = model(input_tensor)\n"
      ]
    },
    {
      "cell_type": "markdown",
      "metadata": {
        "id": "CnRft8Fga541"
      },
      "source": [
        "## 3. Run the model\n"
      ]
    },
    {
      "cell_type": "code",
      "execution_count": 10,
      "metadata": {
        "colab": {
          "base_uri": "https://localhost:8080/"
        },
        "id": "Xt-3tKzca-3t",
        "outputId": "8498efde-0a64-42ed-c05c-597c93784342"
      },
      "outputs": [
        {
          "name": "stdout",
          "output_type": "stream",
          "text": [
            "120\n"
          ]
        }
      ],
      "source": [
        "\n",
        "out_res = model(10)\n",
        "print(out_res)\n"
      ]
    },
    {
      "cell_type": "code",
      "execution_count": 11,
      "metadata": {},
      "outputs": [
        {
          "name": "stdout",
          "output_type": "stream",
          "text": [
            "tensor(120)\n"
          ]
        }
      ],
      "source": [
        "out_res = model(torch.tensor(10))\n",
        "print(out_res)"
      ]
    },
    {
      "cell_type": "markdown",
      "metadata": {
        "id": "hsenbNgdbDnl"
      },
      "source": [
        "Several values can be computed at the same time:"
      ]
    },
    {
      "cell_type": "code",
      "execution_count": 12,
      "metadata": {
        "colab": {
          "base_uri": "https://localhost:8080/"
        },
        "id": "Ta6YZSpcaa91",
        "outputId": "02dda376-806b-4577-b1bf-6236ee1d36e9"
      },
      "outputs": [
        {
          "name": "stdout",
          "output_type": "stream",
          "text": [
            "tensor([3, 8, 3])\n"
          ]
        }
      ],
      "source": [
        "out_val = model(torch.tensor([1, 2, 1]))\n",
        "print(out_val)"
      ]
    },
    {
      "cell_type": "markdown",
      "metadata": {
        "id": "dmSH2VjZbeP0"
      },
      "source": [
        "## 4. Tensor operations\n",
        "\n",
        "For ML tasks we often need to perform operations on high-dimensional data. Theese are represented as tensors in torch. For example we can calculate sum of squared values in an 1D array with 5 elements:"
      ]
    },
    {
      "cell_type": "code",
      "execution_count": 13,
      "metadata": {
        "colab": {
          "base_uri": "https://localhost:8080/"
        },
        "id": "9tjrpbLwaoA1",
        "outputId": "300667d8-55d5-4850-d5b8-e2f7377f667d"
      },
      "outputs": [
        {
          "name": "stdout",
          "output_type": "stream",
          "text": [
            "tensor(10)\n"
          ]
        }
      ],
      "source": [
        "class SimpleModel2(nn.Module):\n",
        "    def __init__(self):\n",
        "        super(SimpleModel2, self).__init__()\n",
        "\n",
        "    def forward(self, x):\n",
        "        out1 = x + 2\n",
        "        return torch.sum(out1)\n",
        "\n",
        "\n",
        "model2 = SimpleModel2()\n",
        "out_val = model2(torch.tensor([1, 2, 1]))\n",
        "print(out_val)"
      ]
    },
    {
      "cell_type": "markdown",
      "metadata": {
        "id": "sfMe-WehcGVT"
      },
      "source": [
        "Or we can do the same for several 1D arrays at once:"
      ]
    },
    {
      "cell_type": "code",
      "execution_count": 14,
      "metadata": {
        "colab": {
          "base_uri": "https://localhost:8080/"
        },
        "id": "JGb9Zinwb1jb",
        "outputId": "2a8114b0-472a-4d79-ede1-ff34c1b31737"
      },
      "outputs": [
        {
          "name": "stdout",
          "output_type": "stream",
          "text": [
            "input shape: torch.Size([4, 3])\n",
            "output shape: torch.Size([4])\n",
            "output: tensor([10, 10, 11, 11])\n"
          ]
        }
      ],
      "source": [
        "class SimpleModel3(nn.Module):\n",
        "    def __init__(self):\n",
        "        super(SimpleModel3, self).__init__()\n",
        "\n",
        "    def forward(self, x):\n",
        "        out1 = x + 2\n",
        "        return torch.sum(out1, axis=1)\n",
        "\n",
        "\n",
        "model3 = SimpleModel3()\n",
        "array = torch.tensor([[1,2,1],[1,2,1],[2,1,2],[2,1,2]])\n",
        "print('input shape:', array.shape)\n",
        "\n",
        "out_vals = model3(array)\n",
        "print('output shape:', out_vals.shape)\n",
        "print('output:', out_vals)"
      ]
    },
    {
      "cell_type": "markdown",
      "metadata": {
        "id": "IaFgi162c9_C"
      },
      "source": [
        "## 5. Exercise 1"
      ]
    },
    {
      "cell_type": "code",
      "execution_count": null,
      "metadata": {
        "id": "6lXaa1iocdgj"
      },
      "outputs": [],
      "source": [
        "torch.sum?"
      ]
    },
    {
      "cell_type": "markdown",
      "metadata": {
        "id": "OrAi5OOCdGn6"
      },
      "source": [
        "Modify the code bellow to calculate mean of array's elements."
      ]
    },
    {
      "cell_type": "code",
      "execution_count": 17,
      "metadata": {
        "colab": {
          "base_uri": "https://localhost:8080/"
        },
        "id": "pQSZfDxZdEOC",
        "outputId": "a1f586ef-7481-4f25-d3c2-60cc86a2a920"
      },
      "outputs": [
        {
          "name": "stdout",
          "output_type": "stream",
          "text": [
            "result shape: torch.Size([3])\n",
            "tensor([ 3.0000,  4.0200, 25.0000])\n"
          ]
        }
      ],
      "source": [
        "class MeanModel(nn.Module):\n",
        "    def __init__(self):\n",
        "        super(MeanModel, self).__init__()\n",
        "\n",
        "    def forward(self, x):\n",
        "        return  torch.mean(x, axis=1)\n",
        "\n",
        "# define data:\n",
        "arr = torch.tensor([[1,2,3,4,5], [2,3,4,5.1,6], [25,65,12,12,11]])\n",
        "\n",
        "model = MeanModel()  # define model\n",
        "result = model(arr)  # run model\n",
        "\n",
        "print('result shape:', result.shape)\n",
        "print(result)\n"
      ]
    },
    {
      "cell_type": "markdown",
      "metadata": {
        "id": "eM1uPaXbds4i"
      },
      "source": [
        "## 6. Optimization problem\n",
        "\n",
        "In ML we always try to optimize model parameters to minimize a loss function. pytorch provides easy interface for solving optimization problems.\n",
        "\n",
        "Let's see how this works. We will use a function $f$, parabolic with respect to the model parameter $t$: $f(x_0, x_1|t) = (x_0*t-x_1)^2$. Here $x_0$ and $x_1$ are given values for which we will try to minimize value of function $f$ by modifying $t$.\n",
        "\n",
        "\n"
      ]
    },
    {
      "cell_type": "code",
      "execution_count": 24,
      "metadata": {},
      "outputs": [
        {
          "data": {
            "text/plain": [
              "(5, 3, 2)"
            ]
          },
          "execution_count": 24,
          "metadata": {},
          "output_type": "execute_result"
        }
      ],
      "source": [
        "### playing to understand commands ###\n",
        "\n",
        "a = np.zeros((5,3,7))\n",
        "\n",
        "b = a[...,4:6]\n",
        "b.shape"
      ]
    },
    {
      "cell_type": "code",
      "execution_count": 25,
      "metadata": {
        "id": "TQWFqxPidcT5"
      },
      "outputs": [],
      "source": [
        "class FLayer(nn.Module):\n",
        "    def __init__(self):\n",
        "        super(FLayer, self).__init__()\n",
        "        self.t = nn.Parameter(torch.tensor(0.0))  # Initializing t as a learnable parameter. Initialised value is 0.0.\n",
        "\n",
        "    def forward(self, x):\n",
        "        x0 = x[..., 0]   # the ellipsis here selects all previous dimensions as they are, and the last as dim 0\n",
        "        x1 = x[..., 1]   # the ellipsis here selects all previous dimensions as they are, and the last as dim 1\n",
        "        return (x0 * self.t - x1) ** 2\n",
        "\n",
        "\n",
        "def loss_f(true_y, y):\n",
        "  return y"
      ]
    },
    {
      "cell_type": "markdown",
      "metadata": {
        "id": "N802UDEleIoh"
      },
      "source": [
        "For simplicity we will keep $x_0$ and $x_1$ in an array: `x` = [$x_0$, $x_1$]"
      ]
    },
    {
      "cell_type": "code",
      "execution_count": 26,
      "metadata": {
        "id": "-XEnxV0keJIo"
      },
      "outputs": [],
      "source": [
        "model = FLayer()"
      ]
    },
    {
      "cell_type": "markdown",
      "metadata": {
        "id": "UP0wnuYsfmYn"
      },
      "source": [
        "Next we create an optimizer: object that on each iteration adjusts values of all trainable parameters (in our case just `t` to minimize the value of `f`.\n",
        "Here we will use plain steepest gradient descent.\n",
        "\n",
        "We will minimize the value of the models output."
      ]
    },
    {
      "cell_type": "code",
      "execution_count": 89,
      "metadata": {
        "id": "07BKIbDYfl6A"
      },
      "outputs": [],
      "source": [
        "model = FLayer()\n",
        "\n",
        "# Optimizer (e.g., SGD or Adam)\n",
        "optimizer = optim.SGD(model.parameters(), lr=0.01)\n",
        "\n",
        "# Values of x0 and x1 for which we will minimize f\n",
        "x0_val = 4.4\n",
        "x1_val = 9.\n",
        "x0_t = torch.tensor([x0_val])\n",
        "x1_t = torch.tensor([x1_val])\n",
        "x_val = torch.stack([x0_t, x1_t], dim=-1)\n",
        "\n",
        "# Buffers to store intermediate values of t and f to plot them later\n",
        "t_sv = []\n",
        "f_sv = []\n",
        "\n",
        "\n",
        "# Initial evaluation\n",
        "with torch.no_grad():\n",
        "    f_val = model(x_val)\n",
        "    t_val = model.t.item()\n",
        "\n",
        "t_sv.append(t_val)\n",
        "f_sv.append(f_val.item())\n",
        "\n",
        "# Optimization loop\n",
        "for itr in range(30):\n",
        "    optimizer.zero_grad()  # Zero the gradients\n",
        "    f_val = model(x_val)  # Forward pass\n",
        "    loss = f_val  # Your loss function is just the model output\n",
        "    loss.backward()  # Compute gradients\n",
        "    optimizer.step()  # Update parameters\n",
        "\n",
        "    # Logging current values of t and f\n",
        "    with torch.no_grad():\n",
        "        f_val = model(x_val)\n",
        "        t_val = model.t.item()\n",
        "\n",
        "    t_sv.append(t_val)\n",
        "    f_sv.append(f_val.item())"
      ]
    },
    {
      "cell_type": "code",
      "execution_count": 90,
      "metadata": {
        "colab": {
          "base_uri": "https://localhost:8080/",
          "height": 965
        },
        "id": "YaOVgz-4f8iX",
        "outputId": "c6a9a092-f005-4abd-b4f1-096f2777e4ec"
      },
      "outputs": [
        {
          "data": {
            "image/png": "[encoded data removed]",
            "text/plain": [
              "<Figure size 1600x1000 with 3 Axes>"
            ]
          },
          "metadata": {},
          "output_type": "display_data"
        }
      ],
      "source": [
        "\n",
        "#just find the nice range for plotting\n",
        "\n",
        "x0 = x1_val/x0_val\n",
        "xhalf = max(abs(t_sv[0]-x0), 5.)\n",
        "#fill array for parabola\n",
        "t_all = np.arange(x0-xhalf, x0+xhalf, xhalf/50.)\n",
        "f_all = np.asarray([(ti*x0_val-x1_val)*(ti*x0_val-x1_val) for ti in t_all])\n",
        "\n",
        "#draw all\n",
        "_, axs = plt.subplots(1, 3, figsize=(16,10))\n",
        "axs[0].plot(t_all, f_all, 'b', t_sv, f_sv, 'g^--')\n",
        "axs[0].set_title('f(t | x1,x2)')\n",
        "axs[0].set_xlabel('t')\n",
        "axs[0].set_ylabel('f(t)')\n",
        "axs[0].legend(('f(t)', 'training iterations'),  loc='upper center')\n",
        "axs[1].plot(f_sv)\n",
        "axs[1].set_title('f(itr)');\n",
        "axs[1].set_ylabel('f(t)')\n",
        "axs[1].set_xlabel('training iteration')\n",
        "axs[2].semilogy(f_sv)\n",
        "axs[2].set_title('f(itr), log sclae');\n",
        "axs[2].set_ylabel('f(t)')\n",
        "axs[2].set_xlabel('training iteration')\n",
        "plt.show()"
      ]
    },
    {
      "cell_type": "markdown",
      "metadata": {
        "id": "3Loe3VzSgagP"
      },
      "source": [
        "Of course, in the example above, we can compute the solution analytically for $(x0∗t−x1)^2$. Rewriting it for convenience as $y=(ax+b)^2 = a^2x^2 + 2abx +b^2$, we can derive the gradient $\\frac{dy}{dx} = 2a^2x + 2ab$. This can be evaluated for $\\frac{dy}{dx} =0$ with the values of $a=3$ and $b=-9$: $18x = 54$ so $x=3$. This confirms that our optimization process converged to the correct (analytic) solution.\n",
        "\n",
        "In practice, the functions will not be simple, and for sure the derivation of an analytic solution will not be possible. This is why these optimization procedures are so helpful."
      ]
    },
    {
      "cell_type": "markdown",
      "metadata": {
        "id": "EFq8fqLkgRdW"
      },
      "source": [
        "## 7. Exercise 2\n",
        "\n",
        "Try to modify ``x0_val`` and ``x1_val`` in the above code, as well as the ``learning_rate`` and ``t`` initialization value, and see how it affects convergence. Try to acquire an intuition of how this works on this simple example, it is very useful!\n",
        "\n",
        "Try to see when\n",
        "1. convergence is too slow\n",
        "2. oscillation near minimum occurs\n",
        "3. divergence\n"
      ]
    },
    {
      "cell_type": "markdown",
      "metadata": {
        "id": "_FujCL3sgRhu"
      },
      "source": [
        "Solutions: \n",
        "\n",
        "1. Convergence is too slow when the learning rate is too low, for this example, 0.001 is too slow and requires many more iterations \n",
        "2. Oscillation around the minimum occurs in this case when the learning rate is equal to 1/9 (look over analytically)\n",
        "3. Divergence occurs when the learning rate is too high. For this example, lr values >> 1/9, cause divergence."
      ]
    },
    {
      "cell_type": "markdown",
      "metadata": {},
      "source": []
    }
  ],
  "metadata": {
    "colab": {
      "provenance": []
    },
    "kernelspec": {
      "display_name": "Python 3",
      "name": "python3"
    },
    "language_info": {
      "name": "python",
      "version": "3.11.4"
    }
  },
  "nbformat": 4,
  "nbformat_minor": 0
}
