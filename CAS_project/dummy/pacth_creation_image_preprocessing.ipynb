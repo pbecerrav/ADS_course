{
 "cells": [
  {
   "cell_type": "code",
   "execution_count": 32,
   "id": "cbad5079-9e4e-4bb1-867a-6a75bc76a3fc",
   "metadata": {},
   "outputs": [],
   "source": [
    "import numpy as np\n",
    "from skimage import io\n",
    "import matplotlib.pyplot as plt\n",
    "import os #importing OperationSystem modul\n",
    "\n",
    "from skimage import data, color\n",
    "from skimage.transform import rescale, resize, downscale_local_mean"
   ]
  },
  {
   "cell_type": "code",
   "execution_count": 33,
   "id": "bea5a34d-16fc-4648-a0ad-96d5e2533a91",
   "metadata": {},
   "outputs": [
    {
     "data": {
      "text/plain": [
       "'/Users/pbecerra/CAS/ADS_course/Module6/project/image_data/test/images'"
      ]
     },
     "execution_count": 33,
     "metadata": {},
     "output_type": "execute_result"
    }
   ],
   "source": [
    "control = True#if set to True, control values from the data processing will be printed\n",
    "\n",
    "#seting up the working directory to the choosen director (raw string input), wher the data set is located\n",
    "abs_path_loading_pictures=r'/Users/pbecerra/CAS/ADS_course/Module6/project/image_data/test/images'\n",
    "abs_path_saving_pictures =r'/Users/pbecerra/CAS/ADS_course/Module6/project/image_data/test/images_small'\n",
    "abs_path_loading_masks=r'/Users/pbecerra/CAS/ADS_course/Module6/project/image_data/test/masks'\n",
    "abs_path_saving_masks =r'/Users/pbecerra/CAS/ADS_course/Module6/project/image_data/test/masks_small'\n",
    "\n",
    "os.chdir(abs_path_loading_pictures)#seting working directory to the location of the mscl-log\n",
    "os.getcwd()#geting the curent working directory, to check if working in the right directory"
   ]
  },
  {
   "cell_type": "code",
   "execution_count": 34,
   "id": "6fa7b5ed-33a2-4d6e-b7b8-5054ea660390",
   "metadata": {},
   "outputs": [
    {
     "name": "stdout",
     "output_type": "stream",
     "text": [
      "['BASA1_182_1_A.jpg', 'BASA1_090_1_A.jpg', 'BASA1_077_1_A.jpg', 'BASA1_041_1_A.jpg', 'BASA1_051_1_A.jpg', 'BASA1_161_1_A.jpg', 'BASA1_073_1_A.jpg', 'BASA1_229_1_A.jpg', 'BASA1_137_2_A.jpg', 'BASA1_127_1_A.jpg', 'BASA1_205_3_A.jpg']\n",
      "[0, 0, 0, 0, 0, 0, 0, 0, 0, 0, 0]\n"
     ]
    }
   ],
   "source": [
    "files_dir = [file for file in os.listdir(os.getcwd()) if file.endswith('.jpg')]\n",
    "print(files_dir)#qual control\n",
    "image_rescaled_grey_loaded = [0]*len(files_dir)\n",
    "print(image_rescaled_grey_loaded)"
   ]
  },
  {
   "cell_type": "code",
   "execution_count": 35,
   "id": "743f344f-9d88-4ed5-a58e-a46d26d4e85e",
   "metadata": {},
   "outputs": [
    {
     "name": "stdout",
     "output_type": "stream",
     "text": [
      "(2956, 352)\n",
      "(2976, 352)\n",
      "(3026, 352)\n",
      "(2964, 352)\n",
      "(2961, 352)\n",
      "(2953, 352)\n",
      "(3032, 352)\n",
      "(1602, 352)\n",
      "(3021, 352)\n",
      "(3015, 352)\n",
      "(2964, 352)\n",
      "11\n"
     ]
    }
   ],
   "source": [
    "for i in range(len(image_rescaled_grey_loaded)):\n",
    "    image = io.imread(files_dir[i])    \n",
    "    #print(image.shape)#shape of loaded image\n",
    "    image_gray =  color.rgb2gray(image)#converting image to gray scale\n",
    "    image_rescaled = rescale(image_gray, (352/1000), anti_aliasing=False)#rescaling image to 352 pixel with\n",
    "    image_rescaled_grey = (image_rescaled*256).astype('uint8')    \n",
    "    print(image_rescaled_grey.shape)#shape of converted and rescaled image\n",
    "    image_rescaled_grey_loaded[i] = image_rescaled_grey\n",
    "\n",
    "print(len(image_rescaled_grey_loaded))"
   ]
  },
  {
   "cell_type": "code",
   "execution_count": 36,
   "id": "eadf8ff4-baf1-4aa3-988c-a29a7b1031b5",
   "metadata": {},
   "outputs": [
    {
     "name": "stdout",
     "output_type": "stream",
     "text": [
      "(140, 352) 8\n",
      "(160, 352) 8\n",
      "(210, 352) 8\n",
      "(148, 352) 8\n",
      "(145, 352) 8\n",
      "(137, 352) 8\n",
      "(216, 352) 8\n",
      "(194, 352) 4\n",
      "(205, 352) 8\n",
      "(199, 352) 8\n",
      "(148, 352) 8\n"
     ]
    }
   ],
   "source": [
    "os.chdir(abs_path_saving_pictures)#seting working directory to the location of the mscl-log\n",
    "os.getcwd()#geting the curent working directory, to check if working in the right directory\n",
    "for i in range(len(image_rescaled_grey_loaded)):\n",
    "    number_of_batches_per_picture = np.ceil(image_rescaled_grey_loaded[i].shape[0]/352).astype(int)\n",
    "\n",
    "    for j in range(number_of_batches_per_picture):\n",
    "        image_corp = image_rescaled_grey_loaded[i][(j*352):(j+1)*352,0:]\n",
    "        if image_corp.shape != (352,352):\n",
    "            print(image_corp.shape, j)\n",
    "            image_corp = np.pad(image_corp, [(0, 352-image_corp.shape[0] ), (0, 352-image_corp.shape[1])], mode='constant', constant_values=0)  \n",
    "                \n",
    "        #print(image_corp.shape)\n",
    "        io.imsave(files_dir[i][:-4]+'_'+str(j)+ '.png', image_corp) \n",
    "        "
   ]
  },
  {
   "cell_type": "code",
   "execution_count": 37,
   "id": "f7c35b4a-462d-450a-bb49-3c01e2e57c01",
   "metadata": {},
   "outputs": [
    {
     "data": {
      "text/plain": [
       "'/Users/pbecerra/CAS/ADS_course/Module6/project/image_data/test/masks'"
      ]
     },
     "execution_count": 37,
     "metadata": {},
     "output_type": "execute_result"
    }
   ],
   "source": [
    "os.chdir(abs_path_loading_masks)#seting working directory to the location of the mscl-log\n",
    "os.getcwd()#geting the curent working directory, to check if working in the right directory"
   ]
  },
  {
   "cell_type": "code",
   "execution_count": 38,
   "id": "a7403b38-4dcf-4282-9966-3a1aed828112",
   "metadata": {},
   "outputs": [
    {
     "name": "stdout",
     "output_type": "stream",
     "text": [
      "['BASA1_127_1_A_mask.tif', 'BASA1_137_2_A_mask.tif', 'BASA1_073_1_A_mask.tif', 'BASA1_161_1_A_mask.tif', 'BASA1_051_1_A_mask.tif', 'BASA1_205_3_A_mask.tif', 'BASA1_182_1_A_mask.tif', 'BASA1_090_1_A_mask.tif', 'BASA1_041_1_A_mask.tif', 'BASA1_077_1_A_mask.tif', 'BASA1_229_1_A_mask.tif']\n",
      "[0, 0, 0, 0, 0, 0, 0, 0, 0, 0]\n"
     ]
    }
   ],
   "source": [
    "#files_dir_mask = os.listdir(os.getcwd())\n",
    "files_dir_mask = [file for file in os.listdir(os.getcwd()) if file.endswith('.tif')]\n",
    "print(files_dir_mask)#qual control\n",
    "mask_rescaled_loaded = [0]*(len(files_dir_mask)-1)\n",
    "print(mask_rescaled_loaded)"
   ]
  },
  {
   "cell_type": "code",
   "execution_count": 39,
   "id": "877c9ef2-4e3a-420b-a18b-5e854b687f49",
   "metadata": {},
   "outputs": [
    {
     "name": "stdout",
     "output_type": "stream",
     "text": [
      "(3015, 352)\n",
      "(3021, 352)\n",
      "(3032, 352)\n",
      "(2953, 352)\n",
      "(2961, 352)\n",
      "(2964, 352)\n",
      "(2956, 352)\n",
      "(2976, 352)\n",
      "(2964, 352)\n",
      "(3026, 352)\n",
      "10\n",
      "[0 1 5 7]\n"
     ]
    }
   ],
   "source": [
    "for i in range(len(mask_rescaled_loaded)):\n",
    "    image_m = io.imread(files_dir_mask[i])    \n",
    "    #print(image.shape)#shape of loaded image\n",
    "    image_m_rescaled = rescale(image_m, (352/1000), order = 0, anti_aliasing=False)#rescaling image to 352 pixel with\n",
    "    imagem__rescaled_int = image_m_rescaled.astype(int)    \n",
    "    print(imagem__rescaled_int.shape)#shape of converted and rescaled image\n",
    "    mask_rescaled_loaded[i] = imagem__rescaled_int\n",
    "\n",
    "print(len(mask_rescaled_loaded))\n",
    "\n",
    "print(np.unique(mask_rescaled_loaded[0]))"
   ]
  },
  {
   "cell_type": "code",
   "execution_count": 40,
   "id": "f848bdb6-4baa-4095-8701-28092c54ec0c",
   "metadata": {},
   "outputs": [
    {
     "name": "stdout",
     "output_type": "stream",
     "text": [
      "(199, 352) 8\n",
      "(205, 352) 8\n",
      "(216, 352) 8\n",
      "(137, 352) 8\n",
      "(145, 352) 8\n",
      "(148, 352) 8\n",
      "(140, 352) 8\n",
      "(160, 352) 8\n",
      "(148, 352) 8\n"
     ]
    }
   ],
   "source": [
    "os.chdir(abs_path_saving_masks)#seting working directory to the location of the mscl-log\n",
    "os.getcwd()#geting the curent working directory, to check if working in the right directory\n",
    "for i in range(len(mask_rescaled_loaded)-1):\n",
    "    number_of_batches_per_picture = np.ceil(mask_rescaled_loaded[i].shape[0]/352).astype(int)\n",
    "\n",
    "    for j in range(number_of_batches_per_picture):\n",
    "        image_m_corp = mask_rescaled_loaded[i][(j*352):(j+1)*352,0:]\n",
    "        if image_m_corp.shape != (352,352):\n",
    "            print(image_m_corp.shape, j)\n",
    "            image_m_corp = np.pad(image_m_corp, [(0, 352-image_m_corp.shape[0] ), (0, 352-image_m_corp.shape[1])], mode='constant', constant_values=0)  \n",
    " \n",
    "        #print(image_corp.shape)\n",
    "        io.imsave(files_dir_mask[i][:-8]+str(j)+ '_mask.tif', image_m_corp, check_contrast=False) "
   ]
  },
  {
   "cell_type": "code",
   "execution_count": null,
   "id": "61082d1a-2870-4de7-835b-298658f64aec",
   "metadata": {},
   "outputs": [],
   "source": []
  }
 ],
 "metadata": {
  "kernelspec": {
   "display_name": "Python 3 (ipykernel)",
   "language": "python",
   "name": "python3"
  },
  "language_info": {
   "codemirror_mode": {
    "name": "ipython",
    "version": 3
   },
   "file_extension": ".py",
   "mimetype": "text/x-python",
   "name": "python",
   "nbconvert_exporter": "python",
   "pygments_lexer": "ipython3",
   "version": "3.11.4"
  }
 },
 "nbformat": 4,
 "nbformat_minor": 5
}
