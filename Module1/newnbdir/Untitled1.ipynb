{
 "cells": [
  {
   "cell_type": "markdown",
   "id": "c14d235c-2f10-48b8-9ffc-557588f8c768",
   "metadata": {},
   "source": [
    "# CAS Project ideas:\n",
    "\n",
    "## 1. Glacier ice volume and retreat rate model applicable to various places on Earth \n",
    "\n",
    "Apply first to Andean glaciers \n",
    "\n",
    "- Will a model applicable to Andean high mountain glaciers be applicable elsewhere? e.g. in the Alps? Patagonian Andes already quite different than mid-Peruvian Andes.\n",
    "\n",
    "### References\n",
    "\n",
    "- https://www.sciencedirect.com/science/article/pii/S2352938522001781#fig6"
   ]
  },
  {
   "cell_type": "code",
   "execution_count": null,
   "id": "27f2922d-c8e3-4385-9db2-25600cb61950",
   "metadata": {},
   "outputs": [],
   "source": []
  }
 ],
 "metadata": {
  "kernelspec": {
   "display_name": "Python [conda env:CAS]",
   "language": "python",
   "name": "conda-env-CAS-py"
  },
  "language_info": {
   "codemirror_mode": {
    "name": "ipython",
    "version": 3
   },
   "file_extension": ".py",
   "mimetype": "text/x-python",
   "name": "python",
   "nbconvert_exporter": "python",
   "pygments_lexer": "ipython3",
   "version": "3.11.4"
  }
 },
 "nbformat": 4,
 "nbformat_minor": 5
}
