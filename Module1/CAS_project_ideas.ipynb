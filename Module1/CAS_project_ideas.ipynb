{
 "cells": [
  {
   "cell_type": "markdown",
   "id": "c14d235c-2f10-48b8-9ffc-557588f8c768",
   "metadata": {},
   "source": [
    "# CAS Project ideas:\n",
    "\n",
    "## 1. Glacier ice volume and retreat rate model applicable to various places on Earth \n",
    "\n",
    "Apply first to Andean glaciers \n",
    "\n",
    "- Will a model applicable to Andean high mountain glaciers be applicable elsewhere? e.g. in the Alps? Patagonian Andes already quite different than mid-Peruvian Andes.\n",
    "- Boundary recognition --> model recognises terminal moraine or glacier front --> measuring only one directional retreat, so no estimation of mass loss (or at least a very inaccurate one)\n",
    "\n",
    "### References\n",
    "\n",
    "- https://www.sciencedirect.com/science/article/pii/S2352938522001781#fig6\n",
    "- https://www.sciencedirect.com/science/article/pii/S2666017220300079#sec8 \n",
    "- https://www.sciencedirect.com/science/article/pii/S0895981121001000\n",
    "- https://doi.org/10.3390/rs11040452"
   ]
  },
  {
   "cell_type": "markdown",
   "id": "27f2922d-c8e3-4385-9db2-25600cb61950",
   "metadata": {},
   "source": [
    "## 2. Stratigraphic/Lithologic Class recognition in images of sediment cores\n",
    "\n",
    "Project to go with Sebastian's PhD thesis project. Can the lithological classes be recongised directly from the images? I.e. can an ML image recognition model perform the visual classification in the same way a human would? \n",
    "\n",
    "Issues: The training data would have to be images...there might not be enough images (ask Sebastian if there is a database of sediment core images from all over the alps)"
   ]
  },
  {
   "cell_type": "markdown",
   "id": "cea254f5",
   "metadata": {},
   "source": [
    "## 3. Recognition/Prediction of 'was' v 'were' usage in Falklands speaker corpus"
   ]
  }
 ],
 "metadata": {
  "kernelspec": {
   "display_name": "Python [conda env:CAS]",
   "language": "python",
   "name": "conda-env-CAS-py"
  },
  "language_info": {
   "codemirror_mode": {
    "name": "ipython",
    "version": 3
   },
   "file_extension": ".py",
   "mimetype": "text/x-python",
   "name": "python",
   "nbconvert_exporter": "python",
   "pygments_lexer": "ipython3",
   "version": "3.11.4"
  }
 },
 "nbformat": 4,
 "nbformat_minor": 5
}
