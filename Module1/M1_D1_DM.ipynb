{
 "cells": [
  {
   "cell_type": "markdown",
   "metadata": {
    "colab_type": "text",
    "id": "view-in-github"
   },
   "source": [
    "<a href=\"https://colab.research.google.com/github/sigvehaug/CAS-Applied-Data-Science/blob/master/Module-1/M1_D1_DM.ipynb\" target=\"_parent\"><img src=\"https://colab.research.google.com/assets/colab-badge.svg\" alt=\"Open In Colab\"/></a>"
   ]
  },
  {
   "cell_type": "markdown",
   "metadata": {
    "id": "dOSMpeOK06p8"
   },
   "source": [
    "Notebook 1, Module 1, Data and Data Management, CAS Applied Data Science, 2023-08-23, S. Haug, University of Bern.\n"
   ]
  },
  {
   "cell_type": "markdown",
   "metadata": {
    "id": "ljJDZt-n6zPw"
   },
   "source": [
    "Prerequisite for this notebook is some basic Python experience.\n",
    "\n",
    "Please also look at the first batch of [these slides](https://docs.google.com/presentation/d/1BrlQQGDnEpr8lBiEd9uO-Kw2-WOInAEP-cv-xdUwB4Y/edit?usp=sharing) before doing this notebook. They offer an introduction to data.\n",
    "\n",
    "ChatGPT is able to write most of the code needed for this notebook. Please use it if you like !"
   ]
  },
  {
   "cell_type": "markdown",
   "metadata": {
    "id": "OAVKazfU06p-"
   },
   "source": [
    "# 1. Data Management\n",
    "\n",
    "Estimated study time is about 2 hours. According to your background and how much you want to learn, you may need more or less. You are supposed to google, read manuals and chat with others during working through this notebook in order to benefit fully.\n",
    "\n",
    "**Learning outcomes - after completion you**\n",
    "- Know about data sources, types and formats (see lecture slides via link above)\n",
    "- Able to import and export data in Python\n",
    "- Able to do simple things with dataframes in Python\n",
    "- Know about data volumes, metadata and quality\n",
    "- Able to plot histograms and scatter plots in Python (tomorrow)\n",
    "\n",
    "**Documentation on Pandas DataFrame**\n",
    "- Python: https://pandas.pydata.org/pandas-docs/stable/generated/pandas.DataFrame.html\n",
    "\n",
    "## Outline\n",
    "\n",
    "     0. About data management\n",
    "     1. Getting used to Jupyter notebooks / colab\n",
    "     2. Import datasets into a Python dataframe\n",
    "     3. Indexing on a dataframe\n",
    "     4. Sorting\n",
    "     5. Filtering\n",
    "     6. Exporting\n",
    "     7. Missing and bad data\n",
    "     8. Metadata\n",
    "     9. Working on the filesystem\n"
   ]
  },
  {
   "cell_type": "code",
   "execution_count": null,
   "metadata": {
    "id": "P0o4Jxdy06qA"
   },
   "outputs": [],
   "source": []
  },
  {
   "cell_type": "markdown",
   "metadata": {
    "id": "0xY2gyiE06qA"
   },
   "source": [
    "### 0. About data management"
   ]
  },
  {
   "cell_type": "markdown",
   "metadata": {
    "id": "nFyhF-jp06qB"
   },
   "source": [
    "Handling or managing data involves many steps and technologies at many levels. Data may be collected by sensors. It can be a camera, a temperature sensor, a telescope, a microscope (with a camera), a microphone, a particle detector etc. Normally the data is then digitised, maybe preprocessed and written to some media in a certain format, e.g. as a comma separated value (csv) file to a hard disk. This part of the data management is normally taken care of by engineers.\n",
    "\n",
    "Data may also be collected from all sorts of databases, i.e. data that has already been collected somehow. Time series of financial data, customers, passenger registers, facebook likes, twitter tweets etc. This is data which is normally already on a media with some interface for access, e.g. paper to be read by a camera, a file on youtube, a table on wikipedia etc. We will look at some ways to collect such data. Some programming and computer skills are needed to do so. It may be that this part of the data management is taken care of by specialised computer scientists, but it may also be expected from a data scientist to have these skills.\n",
    "\n",
    "Analysing data with statistical and machine learning tools, requires that the data is collected, cleaned and prepared for the tools. This is very often a very large part of a data analytics project and a prerequisite. It may involve removing bad data, filtering out redundant and noisy data, unifying the formats and types, transforming the data etc.\n",
    "Thus, a data scientist must be able to perform this part of the data management. This notebook shows the basic operations with Python pandas. With other tools the concepts and operations are very similar.\n",
    "\n",
    "After the data analysis, and after the extraction of information and the creation of knowledge, the data is often stored or archived for the future (if this seems cheaper than regenerating the data at a later point). In larger institutions this part of the data management may include educated librarians and others, not necessarily the data scientist.  \n",
    "\n",
    "**In this notebook we only look at a few examples on how to do data management with dataframes. Pandas is extremely powerful and we cannot show everything in a couple of hours. You will become more and more experienced when you work on your module projects. Probably whatever you want to do with your dataframe, there is a way to do it. If there isn't, then what you want to do probably doesn't make much sense.**\n",
    "\n",
    "Any questions?\n"
   ]
  },
  {
   "cell_type": "markdown",
   "metadata": {
    "id": "z4HJ8cnp06qC"
   },
   "source": [
    "### 1. Getting used to Jupyter computational notebooks and Colab\n",
    "\n",
    "With Jupyter you can write rich text notebooks with executable code via your browser. There are several so-called kernels or computational back ends, e.g. Python, R, Julia, bash etc. can all be supported. The text is written as Markdown. Latex is also supported (good for math). You can export the notebook in various formats, e.g. html. Everything can be done via the various tabs, however, the key shortcuts make you faster.\n",
    "\n",
    "*Useful key combinations*\n",
    "\n",
    "- Shift Enter or Control Enter = Run cell\n",
    "- Option/Alt Enter = Run cell and Insert new cell below\n",
    "\n",
    "### Exercise 1 (10 min)\n",
    "- Change and run this cell\n",
    "- Add a new cell and execute some python statement in it\n",
    "- Study the tabs in the menu of your jupyter (lab) notebook"
   ]
  },
  {
   "cell_type": "code",
   "execution_count": 1,
   "metadata": {
    "id": "3tn_Bnh606qC"
   },
   "outputs": [
    {
     "name": "stdout",
     "output_type": "stream",
     "text": [
      "Hello\n"
     ]
    }
   ],
   "source": [
    "# Write some more Python code here\n",
    "print('Hello')"
   ]
  },
  {
   "cell_type": "code",
   "execution_count": 2,
   "metadata": {
    "tags": []
   },
   "outputs": [
    {
     "name": "stdout",
     "output_type": "stream",
     "text": [
      "testing counter. Now in: 0\n",
      "testing counter. Now in: 1\n",
      "testing counter. Now in: 2\n",
      "testing counter. Now in: 3\n",
      "testing counter. Now in: 4\n",
      "testing counter. Now in: 5\n",
      "testing counter. Now in: 6\n",
      "testing counter. Now in: 7\n",
      "testing counter. Now in: 8\n",
      "testing counter. Now in: 9\n"
     ]
    }
   ],
   "source": [
    "for i in range(10):\n",
    "    print('testing counter. Now in:', i)"
   ]
  },
  {
   "cell_type": "markdown",
   "metadata": {
    "id": "9Yy0P4Q006qD"
   },
   "source": [
    "### 2. Import a dataset into a Pandas DataFrame\n",
    "\n",
    "Pandas is a Python Module for data analysis and manipulation and management. It has the data structure DataFrame which is quite powerful. It features\n",
    "\n",
    "- DataFrame object for data management with integrated indexing.\n",
    "- Tools for reading and writing data between in-memory data structures and different file formats.\n",
    "- Data alignment and integrated handling of missing data.\n",
    "- Reshaping and pivoting of data sets.\n",
    "- Label-based slicing, fancy indexing, and subsetting of large data sets.\n",
    "- Data structure column insertion and deletion.\n",
    "- Group by engine allowing split-apply-combine operations on data sets.\n",
    "- Data set merging and joining.\n",
    "- Hierarchical axis indexing to work with high-dimensional data in a lower-dimensional data structure.\n",
    "- Time series-functionality: Date range generation and frequency conversion, moving window statistics, moving window linear regressions, date shifting and lagging.\n",
    "\n",
    "The module is highly optimized for performance, with critical code parts written in Cython or C. Documentation here: https://pandas.pydata.org/pandas-docs/stable/api.html\n",
    "\n",
    "For input/output (I/O) there are methods for reading EXCEL, SQL databases, HTML tables, clipboard, SAS, STATA etc."
   ]
  },
  {
   "cell_type": "code",
   "execution_count": 6,
   "metadata": {
    "id": "2va7jftt06qF"
   },
   "outputs": [],
   "source": [
    "# Upload the local data file to colab \n",
    "#(already uploaded into JupyterLab)\n",
    "#option 1: dialog to upload local files onto the cloud\n",
    "#from google.colab import files\n",
    "#uploaded = files.upload()"
   ]
  },
  {
   "cell_type": "code",
   "execution_count": 3,
   "metadata": {
    "id": "Fcu5tlR106qG"
   },
   "outputs": [
    {
     "data": {
      "text/html": [
       "<div>\n",
       "<style scoped>\n",
       "    .dataframe tbody tr th:only-of-type {\n",
       "        vertical-align: middle;\n",
       "    }\n",
       "\n",
       "    .dataframe tbody tr th {\n",
       "        vertical-align: top;\n",
       "    }\n",
       "\n",
       "    .dataframe thead th {\n",
       "        text-align: right;\n",
       "    }\n",
       "</style>\n",
       "<table border=\"1\" class=\"dataframe\">\n",
       "  <thead>\n",
       "    <tr style=\"text-align: right;\">\n",
       "      <th></th>\n",
       "      <th>5.1</th>\n",
       "      <th>3.5</th>\n",
       "      <th>1.4</th>\n",
       "      <th>0.2</th>\n",
       "      <th>Iris-setosa</th>\n",
       "    </tr>\n",
       "  </thead>\n",
       "  <tbody>\n",
       "    <tr>\n",
       "      <th>0</th>\n",
       "      <td>4.9</td>\n",
       "      <td>3.0</td>\n",
       "      <td>1.4</td>\n",
       "      <td>0.2</td>\n",
       "      <td>Iris-setosa</td>\n",
       "    </tr>\n",
       "    <tr>\n",
       "      <th>1</th>\n",
       "      <td>4.7</td>\n",
       "      <td>3.2</td>\n",
       "      <td>1.3</td>\n",
       "      <td>0.2</td>\n",
       "      <td>Iris-setosa</td>\n",
       "    </tr>\n",
       "    <tr>\n",
       "      <th>2</th>\n",
       "      <td>4.6</td>\n",
       "      <td>3.1</td>\n",
       "      <td>1.5</td>\n",
       "      <td>0.2</td>\n",
       "      <td>Iris-setosa</td>\n",
       "    </tr>\n",
       "    <tr>\n",
       "      <th>3</th>\n",
       "      <td>5.0</td>\n",
       "      <td>3.6</td>\n",
       "      <td>1.4</td>\n",
       "      <td>0.2</td>\n",
       "      <td>Iris-setosa</td>\n",
       "    </tr>\n",
       "    <tr>\n",
       "      <th>4</th>\n",
       "      <td>5.4</td>\n",
       "      <td>3.9</td>\n",
       "      <td>1.7</td>\n",
       "      <td>0.4</td>\n",
       "      <td>Iris-setosa</td>\n",
       "    </tr>\n",
       "    <tr>\n",
       "      <th>...</th>\n",
       "      <td>...</td>\n",
       "      <td>...</td>\n",
       "      <td>...</td>\n",
       "      <td>...</td>\n",
       "      <td>...</td>\n",
       "    </tr>\n",
       "    <tr>\n",
       "      <th>144</th>\n",
       "      <td>6.7</td>\n",
       "      <td>3.0</td>\n",
       "      <td>5.2</td>\n",
       "      <td>2.3</td>\n",
       "      <td>Iris-virginica</td>\n",
       "    </tr>\n",
       "    <tr>\n",
       "      <th>145</th>\n",
       "      <td>6.3</td>\n",
       "      <td>2.5</td>\n",
       "      <td>5.0</td>\n",
       "      <td>1.9</td>\n",
       "      <td>Iris-virginica</td>\n",
       "    </tr>\n",
       "    <tr>\n",
       "      <th>146</th>\n",
       "      <td>6.5</td>\n",
       "      <td>3.0</td>\n",
       "      <td>5.2</td>\n",
       "      <td>2.0</td>\n",
       "      <td>Iris-virginica</td>\n",
       "    </tr>\n",
       "    <tr>\n",
       "      <th>147</th>\n",
       "      <td>6.2</td>\n",
       "      <td>3.4</td>\n",
       "      <td>5.4</td>\n",
       "      <td>2.3</td>\n",
       "      <td>Iris-virginica</td>\n",
       "    </tr>\n",
       "    <tr>\n",
       "      <th>148</th>\n",
       "      <td>5.9</td>\n",
       "      <td>3.0</td>\n",
       "      <td>5.1</td>\n",
       "      <td>1.8</td>\n",
       "      <td>Iris-virginica</td>\n",
       "    </tr>\n",
       "  </tbody>\n",
       "</table>\n",
       "<p>149 rows × 5 columns</p>\n",
       "</div>"
      ],
      "text/plain": [
       "     5.1  3.5  1.4  0.2     Iris-setosa\n",
       "0    4.9  3.0  1.4  0.2     Iris-setosa\n",
       "1    4.7  3.2  1.3  0.2     Iris-setosa\n",
       "2    4.6  3.1  1.5  0.2     Iris-setosa\n",
       "3    5.0  3.6  1.4  0.2     Iris-setosa\n",
       "4    5.4  3.9  1.7  0.4     Iris-setosa\n",
       "..   ...  ...  ...  ...             ...\n",
       "144  6.7  3.0  5.2  2.3  Iris-virginica\n",
       "145  6.3  2.5  5.0  1.9  Iris-virginica\n",
       "146  6.5  3.0  5.2  2.0  Iris-virginica\n",
       "147  6.2  3.4  5.4  2.3  Iris-virginica\n",
       "148  5.9  3.0  5.1  1.8  Iris-virginica\n",
       "\n",
       "[149 rows x 5 columns]"
      ]
     },
     "execution_count": 3,
     "metadata": {},
     "output_type": "execute_result"
    }
   ],
   "source": [
    "# import the python module pandas with the abbreviation pd\n",
    "import pandas as pd\n",
    "\n",
    "# Read the data in the iris.csv file into a dataframe\n",
    "iris_df = pd.read_csv('iris.csv')\n",
    "iris_df\n",
    "\n",
    "# If you work on colab, you need the data file on colab of course\n",
    "\n",
    "#option 3: using pandas to read the data directly from a web server\n",
    "#import pandas as pd\n",
    "#url = 'https://raw.githubusercontent.com/sigvehaug/CAS-Applied-Data-Science/master/Module-1/iris.csv'\n",
    "#df = pd.read_csv(url)  # Read the data in the iris.csv file into a dataframe\n"
   ]
  },
  {
   "cell_type": "markdown",
   "metadata": {
    "id": "OKvS45Aq06qH"
   },
   "source": [
    "The dataframe method shows 50 rows per default. We can change this as we like:\n"
   ]
  },
  {
   "cell_type": "code",
   "execution_count": 4,
   "metadata": {
    "id": "odf02zpP06qI"
   },
   "outputs": [
    {
     "data": {
      "text/html": [
       "<div>\n",
       "<style scoped>\n",
       "    .dataframe tbody tr th:only-of-type {\n",
       "        vertical-align: middle;\n",
       "    }\n",
       "\n",
       "    .dataframe tbody tr th {\n",
       "        vertical-align: top;\n",
       "    }\n",
       "\n",
       "    .dataframe thead th {\n",
       "        text-align: right;\n",
       "    }\n",
       "</style>\n",
       "<table border=\"1\" class=\"dataframe\">\n",
       "  <thead>\n",
       "    <tr style=\"text-align: right;\">\n",
       "      <th></th>\n",
       "      <th>5.1</th>\n",
       "      <th>3.5</th>\n",
       "      <th>1.4</th>\n",
       "      <th>0.2</th>\n",
       "      <th>Iris-setosa</th>\n",
       "    </tr>\n",
       "  </thead>\n",
       "  <tbody>\n",
       "    <tr>\n",
       "      <th>0</th>\n",
       "      <td>4.9</td>\n",
       "      <td>3.0</td>\n",
       "      <td>1.4</td>\n",
       "      <td>0.2</td>\n",
       "      <td>Iris-setosa</td>\n",
       "    </tr>\n",
       "    <tr>\n",
       "      <th>1</th>\n",
       "      <td>4.7</td>\n",
       "      <td>3.2</td>\n",
       "      <td>1.3</td>\n",
       "      <td>0.2</td>\n",
       "      <td>Iris-setosa</td>\n",
       "    </tr>\n",
       "    <tr>\n",
       "      <th>2</th>\n",
       "      <td>4.6</td>\n",
       "      <td>3.1</td>\n",
       "      <td>1.5</td>\n",
       "      <td>0.2</td>\n",
       "      <td>Iris-setosa</td>\n",
       "    </tr>\n",
       "    <tr>\n",
       "      <th>3</th>\n",
       "      <td>5.0</td>\n",
       "      <td>3.6</td>\n",
       "      <td>1.4</td>\n",
       "      <td>0.2</td>\n",
       "      <td>Iris-setosa</td>\n",
       "    </tr>\n",
       "    <tr>\n",
       "      <th>4</th>\n",
       "      <td>5.4</td>\n",
       "      <td>3.9</td>\n",
       "      <td>1.7</td>\n",
       "      <td>0.4</td>\n",
       "      <td>Iris-setosa</td>\n",
       "    </tr>\n",
       "  </tbody>\n",
       "</table>\n",
       "</div>"
      ],
      "text/plain": [
       "   5.1  3.5  1.4  0.2  Iris-setosa\n",
       "0  4.9  3.0  1.4  0.2  Iris-setosa\n",
       "1  4.7  3.2  1.3  0.2  Iris-setosa\n",
       "2  4.6  3.1  1.5  0.2  Iris-setosa\n",
       "3  5.0  3.6  1.4  0.2  Iris-setosa\n",
       "4  5.4  3.9  1.7  0.4  Iris-setosa"
      ]
     },
     "execution_count": 4,
     "metadata": {},
     "output_type": "execute_result"
    }
   ],
   "source": [
    "iris_df.head() #shows only first 5 rows"
   ]
  },
  {
   "cell_type": "code",
   "execution_count": 11,
   "metadata": {
    "id": "sfWe0grO06qJ"
   },
   "outputs": [
    {
     "data": {
      "text/html": [
       "<div>\n",
       "<style scoped>\n",
       "    .dataframe tbody tr th:only-of-type {\n",
       "        vertical-align: middle;\n",
       "    }\n",
       "\n",
       "    .dataframe tbody tr th {\n",
       "        vertical-align: top;\n",
       "    }\n",
       "\n",
       "    .dataframe thead th {\n",
       "        text-align: right;\n",
       "    }\n",
       "</style>\n",
       "<table border=\"1\" class=\"dataframe\">\n",
       "  <thead>\n",
       "    <tr style=\"text-align: right;\">\n",
       "      <th></th>\n",
       "      <th>5.1</th>\n",
       "      <th>3.5</th>\n",
       "      <th>1.4</th>\n",
       "      <th>0.2</th>\n",
       "      <th>Iris-setosa</th>\n",
       "    </tr>\n",
       "  </thead>\n",
       "  <tbody>\n",
       "    <tr>\n",
       "      <th>0</th>\n",
       "      <td>4.9</td>\n",
       "      <td>3.0</td>\n",
       "      <td>1.4</td>\n",
       "      <td>0.2</td>\n",
       "      <td>Iris-setosa</td>\n",
       "    </tr>\n",
       "    <tr>\n",
       "      <th>1</th>\n",
       "      <td>4.7</td>\n",
       "      <td>3.2</td>\n",
       "      <td>1.3</td>\n",
       "      <td>0.2</td>\n",
       "      <td>Iris-setosa</td>\n",
       "    </tr>\n",
       "    <tr>\n",
       "      <th>2</th>\n",
       "      <td>4.6</td>\n",
       "      <td>3.1</td>\n",
       "      <td>1.5</td>\n",
       "      <td>0.2</td>\n",
       "      <td>Iris-setosa</td>\n",
       "    </tr>\n",
       "    <tr>\n",
       "      <th>...</th>\n",
       "      <td>...</td>\n",
       "      <td>...</td>\n",
       "      <td>...</td>\n",
       "      <td>...</td>\n",
       "      <td>...</td>\n",
       "    </tr>\n",
       "    <tr>\n",
       "      <th>146</th>\n",
       "      <td>6.5</td>\n",
       "      <td>3.0</td>\n",
       "      <td>5.2</td>\n",
       "      <td>2.0</td>\n",
       "      <td>Iris-virginica</td>\n",
       "    </tr>\n",
       "    <tr>\n",
       "      <th>147</th>\n",
       "      <td>6.2</td>\n",
       "      <td>3.4</td>\n",
       "      <td>5.4</td>\n",
       "      <td>2.3</td>\n",
       "      <td>Iris-virginica</td>\n",
       "    </tr>\n",
       "    <tr>\n",
       "      <th>148</th>\n",
       "      <td>5.9</td>\n",
       "      <td>3.0</td>\n",
       "      <td>5.1</td>\n",
       "      <td>1.8</td>\n",
       "      <td>Iris-virginica</td>\n",
       "    </tr>\n",
       "  </tbody>\n",
       "</table>\n",
       "<p>149 rows × 5 columns</p>\n",
       "</div>"
      ],
      "text/plain": [
       "     5.1  3.5  1.4  0.2     Iris-setosa\n",
       "0    4.9  3.0  1.4  0.2     Iris-setosa\n",
       "1    4.7  3.2  1.3  0.2     Iris-setosa\n",
       "2    4.6  3.1  1.5  0.2     Iris-setosa\n",
       "..   ...  ...  ...  ...             ...\n",
       "146  6.5  3.0  5.2  2.0  Iris-virginica\n",
       "147  6.2  3.4  5.4  2.3  Iris-virginica\n",
       "148  5.9  3.0  5.1  1.8  Iris-virginica\n",
       "\n",
       "[149 rows x 5 columns]"
      ]
     },
     "execution_count": 11,
     "metadata": {},
     "output_type": "execute_result"
    }
   ],
   "source": [
    "pd.set_option('display.max_rows',6)\n",
    "iris_df"
   ]
  },
  {
   "cell_type": "code",
   "execution_count": 7,
   "metadata": {
    "id": "bVjX2_Iy06qK"
   },
   "outputs": [
    {
     "data": {
      "text/html": [
       "<div>\n",
       "<style scoped>\n",
       "    .dataframe tbody tr th:only-of-type {\n",
       "        vertical-align: middle;\n",
       "    }\n",
       "\n",
       "    .dataframe tbody tr th {\n",
       "        vertical-align: top;\n",
       "    }\n",
       "\n",
       "    .dataframe thead th {\n",
       "        text-align: right;\n",
       "    }\n",
       "</style>\n",
       "<table border=\"1\" class=\"dataframe\">\n",
       "  <thead>\n",
       "    <tr style=\"text-align: right;\">\n",
       "      <th></th>\n",
       "      <th>5.1</th>\n",
       "      <th>3.5</th>\n",
       "      <th>1.4</th>\n",
       "      <th>0.2</th>\n",
       "      <th>Iris-setosa</th>\n",
       "    </tr>\n",
       "  </thead>\n",
       "  <tbody>\n",
       "    <tr>\n",
       "      <th>0</th>\n",
       "      <td>4.9</td>\n",
       "      <td>3.0</td>\n",
       "      <td>1.4</td>\n",
       "      <td>0.2</td>\n",
       "      <td>Iris-setosa</td>\n",
       "    </tr>\n",
       "    <tr>\n",
       "      <th>1</th>\n",
       "      <td>4.7</td>\n",
       "      <td>3.2</td>\n",
       "      <td>1.3</td>\n",
       "      <td>0.2</td>\n",
       "      <td>Iris-setosa</td>\n",
       "    </tr>\n",
       "    <tr>\n",
       "      <th>2</th>\n",
       "      <td>4.6</td>\n",
       "      <td>3.1</td>\n",
       "      <td>1.5</td>\n",
       "      <td>0.2</td>\n",
       "      <td>Iris-setosa</td>\n",
       "    </tr>\n",
       "    <tr>\n",
       "      <th>3</th>\n",
       "      <td>5.0</td>\n",
       "      <td>3.6</td>\n",
       "      <td>1.4</td>\n",
       "      <td>0.2</td>\n",
       "      <td>Iris-setosa</td>\n",
       "    </tr>\n",
       "    <tr>\n",
       "      <th>4</th>\n",
       "      <td>5.4</td>\n",
       "      <td>3.9</td>\n",
       "      <td>1.7</td>\n",
       "      <td>0.4</td>\n",
       "      <td>Iris-setosa</td>\n",
       "    </tr>\n",
       "    <tr>\n",
       "      <th>...</th>\n",
       "      <td>...</td>\n",
       "      <td>...</td>\n",
       "      <td>...</td>\n",
       "      <td>...</td>\n",
       "      <td>...</td>\n",
       "    </tr>\n",
       "    <tr>\n",
       "      <th>144</th>\n",
       "      <td>6.7</td>\n",
       "      <td>3.0</td>\n",
       "      <td>5.2</td>\n",
       "      <td>2.3</td>\n",
       "      <td>Iris-virginica</td>\n",
       "    </tr>\n",
       "    <tr>\n",
       "      <th>145</th>\n",
       "      <td>6.3</td>\n",
       "      <td>2.5</td>\n",
       "      <td>5.0</td>\n",
       "      <td>1.9</td>\n",
       "      <td>Iris-virginica</td>\n",
       "    </tr>\n",
       "    <tr>\n",
       "      <th>146</th>\n",
       "      <td>6.5</td>\n",
       "      <td>3.0</td>\n",
       "      <td>5.2</td>\n",
       "      <td>2.0</td>\n",
       "      <td>Iris-virginica</td>\n",
       "    </tr>\n",
       "    <tr>\n",
       "      <th>147</th>\n",
       "      <td>6.2</td>\n",
       "      <td>3.4</td>\n",
       "      <td>5.4</td>\n",
       "      <td>2.3</td>\n",
       "      <td>Iris-virginica</td>\n",
       "    </tr>\n",
       "    <tr>\n",
       "      <th>148</th>\n",
       "      <td>5.9</td>\n",
       "      <td>3.0</td>\n",
       "      <td>5.1</td>\n",
       "      <td>1.8</td>\n",
       "      <td>Iris-virginica</td>\n",
       "    </tr>\n",
       "  </tbody>\n",
       "</table>\n",
       "<p>149 rows × 5 columns</p>\n",
       "</div>"
      ],
      "text/plain": [
       "     5.1  3.5  1.4  0.2     Iris-setosa\n",
       "0    4.9  3.0  1.4  0.2     Iris-setosa\n",
       "1    4.7  3.2  1.3  0.2     Iris-setosa\n",
       "2    4.6  3.1  1.5  0.2     Iris-setosa\n",
       "3    5.0  3.6  1.4  0.2     Iris-setosa\n",
       "4    5.4  3.9  1.7  0.4     Iris-setosa\n",
       "..   ...  ...  ...  ...             ...\n",
       "144  6.7  3.0  5.2  2.3  Iris-virginica\n",
       "145  6.3  2.5  5.0  1.9  Iris-virginica\n",
       "146  6.5  3.0  5.2  2.0  Iris-virginica\n",
       "147  6.2  3.4  5.4  2.3  Iris-virginica\n",
       "148  5.9  3.0  5.1  1.8  Iris-virginica\n",
       "\n",
       "[149 rows x 5 columns]"
      ]
     },
     "execution_count": 7,
     "metadata": {},
     "output_type": "execute_result"
    }
   ],
   "source": [
    "iris_df"
   ]
  },
  {
   "cell_type": "markdown",
   "metadata": {
    "id": "hNySrhxP06qK"
   },
   "source": [
    "Find out on wikipedia what this Iris data is about."
   ]
  },
  {
   "cell_type": "markdown",
   "metadata": {
    "id": "vwEVzhfl06qK"
   },
   "source": [
    "### Hint\n",
    "\n",
    "There are some ways to get help about modules and methods in Jupyter:"
   ]
  },
  {
   "cell_type": "code",
   "execution_count": null,
   "metadata": {
    "id": "umgUyQ4i06qL"
   },
   "outputs": [],
   "source": []
  },
  {
   "cell_type": "markdown",
   "metadata": {
    "id": "YCAPpVAq06qL"
   },
   "source": [
    "Get help about this object, if there is any:"
   ]
  },
  {
   "cell_type": "code",
   "execution_count": null,
   "metadata": {
    "id": "ZctEUABs06qL"
   },
   "outputs": [],
   "source": []
  },
  {
   "cell_type": "markdown",
   "metadata": {
    "id": "_5pTPqZA06qM"
   },
   "source": [
    "And, what you will probably use the most, the online package information and examples by googling or ChatGPT."
   ]
  },
  {
   "cell_type": "markdown",
   "metadata": {
    "id": "Dp-beMVD06qM"
   },
   "source": [
    "### Exercise 2 (10 min)\n",
    "\n",
    "Read the Swiss BAG Corona data on deaths into a dataframe and look at it. The URL is\n",
    "https://www.covid19.admin.ch/api/data/20230815-7ixiby4u/sources/COVID19Death_geoRegion.csv\n",
    "\n",
    "There are also json files on that server. If you want to use them instead, consult https://pandas.pydata.org/docs/reference/io.html in order to find out how to read a json file into a pandas dataframe."
   ]
  },
  {
   "cell_type": "code",
   "execution_count": 44,
   "metadata": {
    "id": "bjGxXL8k06qM"
   },
   "outputs": [],
   "source": [
    "# Write your code here\n",
    "pd.set_option('display.max_rows',10)\n",
    "url = 'https://www.covid19.admin.ch/api/data/20210823-4c27ic5b/sources/COVID19VaccPersons_v2.json'\n",
    "#url = 'https://www.covid19.admin.ch/api/data/20230815-7ixiby4u/sources/COVID19Death_geoRegion.csv'\n",
    "covid_df = pd.read_json(url)"
   ]
  },
  {
   "cell_type": "code",
   "execution_count": 45,
   "metadata": {
    "id": "dIR8YyDP06qM"
   },
   "outputs": [
    {
     "data": {
      "text/html": [
       "<div>\n",
       "<style scoped>\n",
       "    .dataframe tbody tr th:only-of-type {\n",
       "        vertical-align: middle;\n",
       "    }\n",
       "\n",
       "    .dataframe tbody tr th {\n",
       "        vertical-align: top;\n",
       "    }\n",
       "\n",
       "    .dataframe thead th {\n",
       "        text-align: right;\n",
       "    }\n",
       "</style>\n",
       "<table border=\"1\" class=\"dataframe\">\n",
       "  <thead>\n",
       "    <tr style=\"text-align: right;\">\n",
       "      <th></th>\n",
       "      <th>date</th>\n",
       "      <th>geoRegion</th>\n",
       "      <th>entries</th>\n",
       "      <th>pop</th>\n",
       "      <th>sumTotal</th>\n",
       "      <th>per100Persons</th>\n",
       "      <th>per100PersonsTotal</th>\n",
       "      <th>type</th>\n",
       "      <th>version</th>\n",
       "      <th>granularity</th>\n",
       "      <th>per100Persons_mean7d</th>\n",
       "      <th>mean7d</th>\n",
       "    </tr>\n",
       "  </thead>\n",
       "  <tbody>\n",
       "    <tr>\n",
       "      <th>0</th>\n",
       "      <td>2020-12-22</td>\n",
       "      <td>AG</td>\n",
       "      <td>0</td>\n",
       "      <td>685845.0</td>\n",
       "      <td>0</td>\n",
       "      <td>0.00</td>\n",
       "      <td>0.00</td>\n",
       "      <td>COVID19AtLeastOneDosePersons</td>\n",
       "      <td>2021-08-23_10-12-10</td>\n",
       "      <td>detailed</td>\n",
       "      <td>NaN</td>\n",
       "      <td>NaN</td>\n",
       "    </tr>\n",
       "    <tr>\n",
       "      <th>1</th>\n",
       "      <td>2020-12-23</td>\n",
       "      <td>AG</td>\n",
       "      <td>5</td>\n",
       "      <td>685845.0</td>\n",
       "      <td>5</td>\n",
       "      <td>0.00</td>\n",
       "      <td>0.00</td>\n",
       "      <td>COVID19AtLeastOneDosePersons</td>\n",
       "      <td>2021-08-23_10-12-10</td>\n",
       "      <td>detailed</td>\n",
       "      <td>NaN</td>\n",
       "      <td>NaN</td>\n",
       "    </tr>\n",
       "    <tr>\n",
       "      <th>2</th>\n",
       "      <td>2020-12-24</td>\n",
       "      <td>AG</td>\n",
       "      <td>2</td>\n",
       "      <td>685845.0</td>\n",
       "      <td>7</td>\n",
       "      <td>0.00</td>\n",
       "      <td>0.00</td>\n",
       "      <td>COVID19AtLeastOneDosePersons</td>\n",
       "      <td>2021-08-23_10-12-10</td>\n",
       "      <td>detailed</td>\n",
       "      <td>NaN</td>\n",
       "      <td>NaN</td>\n",
       "    </tr>\n",
       "    <tr>\n",
       "      <th>3</th>\n",
       "      <td>2020-12-25</td>\n",
       "      <td>AG</td>\n",
       "      <td>0</td>\n",
       "      <td>685845.0</td>\n",
       "      <td>7</td>\n",
       "      <td>0.00</td>\n",
       "      <td>0.00</td>\n",
       "      <td>COVID19AtLeastOneDosePersons</td>\n",
       "      <td>2021-08-23_10-12-10</td>\n",
       "      <td>detailed</td>\n",
       "      <td>0.00</td>\n",
       "      <td>2.00</td>\n",
       "    </tr>\n",
       "    <tr>\n",
       "      <th>4</th>\n",
       "      <td>2020-12-26</td>\n",
       "      <td>AG</td>\n",
       "      <td>0</td>\n",
       "      <td>685845.0</td>\n",
       "      <td>7</td>\n",
       "      <td>0.00</td>\n",
       "      <td>0.00</td>\n",
       "      <td>COVID19AtLeastOneDosePersons</td>\n",
       "      <td>2021-08-23_10-12-10</td>\n",
       "      <td>detailed</td>\n",
       "      <td>0.00</td>\n",
       "      <td>3.29</td>\n",
       "    </tr>\n",
       "    <tr>\n",
       "      <th>...</th>\n",
       "      <td>...</td>\n",
       "      <td>...</td>\n",
       "      <td>...</td>\n",
       "      <td>...</td>\n",
       "      <td>...</td>\n",
       "      <td>...</td>\n",
       "      <td>...</td>\n",
       "      <td>...</td>\n",
       "      <td>...</td>\n",
       "      <td>...</td>\n",
       "      <td>...</td>\n",
       "      <td>...</td>\n",
       "    </tr>\n",
       "    <tr>\n",
       "      <th>23419</th>\n",
       "      <td>2021-08-18</td>\n",
       "      <td>ZH</td>\n",
       "      <td>33</td>\n",
       "      <td>1539275.0</td>\n",
       "      <td>73528</td>\n",
       "      <td>0.00</td>\n",
       "      <td>4.78</td>\n",
       "      <td>COVID19PartiallyVaccPersons</td>\n",
       "      <td>2021-08-23_10-12-10</td>\n",
       "      <td>detailed</td>\n",
       "      <td>-0.02</td>\n",
       "      <td>-252.57</td>\n",
       "    </tr>\n",
       "    <tr>\n",
       "      <th>23420</th>\n",
       "      <td>2021-08-19</td>\n",
       "      <td>ZH</td>\n",
       "      <td>-157</td>\n",
       "      <td>1539275.0</td>\n",
       "      <td>73371</td>\n",
       "      <td>-0.01</td>\n",
       "      <td>4.77</td>\n",
       "      <td>COVID19PartiallyVaccPersons</td>\n",
       "      <td>2021-08-23_10-12-10</td>\n",
       "      <td>detailed</td>\n",
       "      <td>-0.02</td>\n",
       "      <td>-246.14</td>\n",
       "    </tr>\n",
       "    <tr>\n",
       "      <th>23421</th>\n",
       "      <td>2021-08-20</td>\n",
       "      <td>ZH</td>\n",
       "      <td>70</td>\n",
       "      <td>1539275.0</td>\n",
       "      <td>73441</td>\n",
       "      <td>0.00</td>\n",
       "      <td>4.77</td>\n",
       "      <td>COVID19PartiallyVaccPersons</td>\n",
       "      <td>2021-08-23_10-12-10</td>\n",
       "      <td>detailed</td>\n",
       "      <td>NaN</td>\n",
       "      <td>NaN</td>\n",
       "    </tr>\n",
       "    <tr>\n",
       "      <th>23422</th>\n",
       "      <td>2021-08-21</td>\n",
       "      <td>ZH</td>\n",
       "      <td>245</td>\n",
       "      <td>1539275.0</td>\n",
       "      <td>73686</td>\n",
       "      <td>0.02</td>\n",
       "      <td>4.79</td>\n",
       "      <td>COVID19PartiallyVaccPersons</td>\n",
       "      <td>2021-08-23_10-12-10</td>\n",
       "      <td>detailed</td>\n",
       "      <td>NaN</td>\n",
       "      <td>NaN</td>\n",
       "    </tr>\n",
       "    <tr>\n",
       "      <th>23423</th>\n",
       "      <td>2021-08-22</td>\n",
       "      <td>ZH</td>\n",
       "      <td>37</td>\n",
       "      <td>1539275.0</td>\n",
       "      <td>73723</td>\n",
       "      <td>0.00</td>\n",
       "      <td>4.79</td>\n",
       "      <td>COVID19PartiallyVaccPersons</td>\n",
       "      <td>2021-08-23_10-12-10</td>\n",
       "      <td>detailed</td>\n",
       "      <td>NaN</td>\n",
       "      <td>NaN</td>\n",
       "    </tr>\n",
       "  </tbody>\n",
       "</table>\n",
       "<p>23424 rows × 12 columns</p>\n",
       "</div>"
      ],
      "text/plain": [
       "            date geoRegion  entries        pop  sumTotal  per100Persons  \\\n",
       "0     2020-12-22        AG        0   685845.0         0           0.00   \n",
       "1     2020-12-23        AG        5   685845.0         5           0.00   \n",
       "2     2020-12-24        AG        2   685845.0         7           0.00   \n",
       "3     2020-12-25        AG        0   685845.0         7           0.00   \n",
       "4     2020-12-26        AG        0   685845.0         7           0.00   \n",
       "...          ...       ...      ...        ...       ...            ...   \n",
       "23419 2021-08-18        ZH       33  1539275.0     73528           0.00   \n",
       "23420 2021-08-19        ZH     -157  1539275.0     73371          -0.01   \n",
       "23421 2021-08-20        ZH       70  1539275.0     73441           0.00   \n",
       "23422 2021-08-21        ZH      245  1539275.0     73686           0.02   \n",
       "23423 2021-08-22        ZH       37  1539275.0     73723           0.00   \n",
       "\n",
       "       per100PersonsTotal                          type              version  \\\n",
       "0                    0.00  COVID19AtLeastOneDosePersons  2021-08-23_10-12-10   \n",
       "1                    0.00  COVID19AtLeastOneDosePersons  2021-08-23_10-12-10   \n",
       "2                    0.00  COVID19AtLeastOneDosePersons  2021-08-23_10-12-10   \n",
       "3                    0.00  COVID19AtLeastOneDosePersons  2021-08-23_10-12-10   \n",
       "4                    0.00  COVID19AtLeastOneDosePersons  2021-08-23_10-12-10   \n",
       "...                   ...                           ...                  ...   \n",
       "23419                4.78   COVID19PartiallyVaccPersons  2021-08-23_10-12-10   \n",
       "23420                4.77   COVID19PartiallyVaccPersons  2021-08-23_10-12-10   \n",
       "23421                4.77   COVID19PartiallyVaccPersons  2021-08-23_10-12-10   \n",
       "23422                4.79   COVID19PartiallyVaccPersons  2021-08-23_10-12-10   \n",
       "23423                4.79   COVID19PartiallyVaccPersons  2021-08-23_10-12-10   \n",
       "\n",
       "      granularity  per100Persons_mean7d  mean7d  \n",
       "0        detailed                   NaN     NaN  \n",
       "1        detailed                   NaN     NaN  \n",
       "2        detailed                   NaN     NaN  \n",
       "3        detailed                  0.00    2.00  \n",
       "4        detailed                  0.00    3.29  \n",
       "...           ...                   ...     ...  \n",
       "23419    detailed                 -0.02 -252.57  \n",
       "23420    detailed                 -0.02 -246.14  \n",
       "23421    detailed                   NaN     NaN  \n",
       "23422    detailed                   NaN     NaN  \n",
       "23423    detailed                   NaN     NaN  \n",
       "\n",
       "[23424 rows x 12 columns]"
      ]
     },
     "execution_count": 45,
     "metadata": {},
     "output_type": "execute_result"
    }
   ],
   "source": [
    "covid_df"
   ]
  },
  {
   "cell_type": "code",
   "execution_count": 46,
   "metadata": {
    "tags": []
   },
   "outputs": [
    {
     "name": "stdout",
     "output_type": "stream",
     "text": [
      "<class 'pandas.core.frame.DataFrame'>\n",
      "RangeIndex: 23424 entries, 0 to 23423\n",
      "Data columns (total 12 columns):\n",
      " #   Column                Non-Null Count  Dtype         \n",
      "---  ------                --------------  -----         \n",
      " 0   date                  23424 non-null  datetime64[ns]\n",
      " 1   geoRegion             23424 non-null  object        \n",
      " 2   entries               23424 non-null  int64         \n",
      " 3   pop                   21228 non-null  float64       \n",
      " 4   sumTotal              23424 non-null  int64         \n",
      " 5   per100Persons         21228 non-null  float64       \n",
      " 6   per100PersonsTotal    21228 non-null  float64       \n",
      " 7   type                  23424 non-null  object        \n",
      " 8   version               23424 non-null  object        \n",
      " 9   granularity           23424 non-null  object        \n",
      " 10  per100Persons_mean7d  20706 non-null  float64       \n",
      " 11  mean7d                22848 non-null  float64       \n",
      "dtypes: datetime64[ns](1), float64(5), int64(2), object(4)\n",
      "memory usage: 2.1+ MB\n"
     ]
    }
   ],
   "source": [
    "covid_df.info()"
   ]
  },
  {
   "cell_type": "code",
   "execution_count": 21,
   "metadata": {
    "tags": []
   },
   "outputs": [],
   "source": [
    "url = 'https://www.covid19.admin.ch/api/data/20230815-7ixiby4u/sources/COVID19Death_geoRegion.csv'\n",
    "covid_df = pd.read_csv(url)"
   ]
  },
  {
   "cell_type": "code",
   "execution_count": 22,
   "metadata": {
    "tags": []
   },
   "outputs": [
    {
     "name": "stdout",
     "output_type": "stream",
     "text": [
      "<class 'pandas.core.frame.DataFrame'>\n",
      "RangeIndex: 30247 entries, 0 to 30246\n",
      "Data columns (total 36 columns):\n",
      " #   Column                 Non-Null Count  Dtype  \n",
      "---  ------                 --------------  -----  \n",
      " 0   geoRegion              30247 non-null  object \n",
      " 1   datum                  30247 non-null  object \n",
      " 2   entries                30247 non-null  int64  \n",
      " 3   sumTotal               30247 non-null  int64  \n",
      " 4   timeframe_14d          30247 non-null  bool   \n",
      " 5   timeframe_all          30247 non-null  bool   \n",
      " 6   offset_last7d          30247 non-null  int64  \n",
      " 7   sumTotal_last7d        30247 non-null  int64  \n",
      " 8   offset_last14d         30247 non-null  int64  \n",
      " 9   sumTotal_last14d       30247 non-null  int64  \n",
      " 10  offset_last28d         30247 non-null  int64  \n",
      " 11  sumTotal_last28d       30247 non-null  int64  \n",
      " 12  sum7d                  30073 non-null  float64\n",
      " 13  sum14d                 29870 non-null  float64\n",
      " 14  mean7d                 30160 non-null  float64\n",
      " 15  mean14d                30073 non-null  float64\n",
      " 16  entries_diff_last_age  30247 non-null  int64  \n",
      " 17  pop                    30247 non-null  int64  \n",
      " 18  inz_entries            30247 non-null  float64\n",
      " 19  inzsumTotal            30247 non-null  float64\n",
      " 20  inzmean7d              30160 non-null  float64\n",
      " 21  inzmean14d             30073 non-null  float64\n",
      " 22  inzsumTotal_last7d     0 non-null      float64\n",
      " 23  inzsumTotal_last14d    0 non-null      float64\n",
      " 24  inzsumTotal_last28d    174 non-null    float64\n",
      " 25  inzsum7d               30073 non-null  float64\n",
      " 26  inzsum14d              29870 non-null  float64\n",
      " 27  sumdelta7d             30044 non-null  float64\n",
      " 28  inzdelta7d             30044 non-null  float64\n",
      " 29  type                   30247 non-null  object \n",
      " 30  type_variant           0 non-null      float64\n",
      " 31  version                30247 non-null  object \n",
      " 32  datum_unit             30247 non-null  object \n",
      " 33  entries_letzter_stand  30247 non-null  int64  \n",
      " 34  entries_neu_gemeldet   30247 non-null  int64  \n",
      " 35  entries_diff_last      30247 non-null  int64  \n",
      "dtypes: bool(2), float64(16), int64(13), object(5)\n",
      "memory usage: 7.9+ MB\n"
     ]
    }
   ],
   "source": [
    "covid_df.info()"
   ]
  },
  {
   "cell_type": "markdown",
   "metadata": {},
   "source": [
    "**Q/C: The COVID-19 data loaded from the CSV file seems different than the data loaded from the JSON file**"
   ]
  },
  {
   "cell_type": "markdown",
   "metadata": {
    "id": "xCI7ub-706qN"
   },
   "source": [
    "### 3. Indexing on a DataFrame\n",
    "\n",
    "By methods (we are back to our clean and simple Iris dataset):"
   ]
  },
  {
   "cell_type": "code",
   "execution_count": 47,
   "metadata": {
    "tags": []
   },
   "outputs": [
    {
     "data": {
      "text/html": [
       "<div>\n",
       "<style scoped>\n",
       "    .dataframe tbody tr th:only-of-type {\n",
       "        vertical-align: middle;\n",
       "    }\n",
       "\n",
       "    .dataframe tbody tr th {\n",
       "        vertical-align: top;\n",
       "    }\n",
       "\n",
       "    .dataframe thead th {\n",
       "        text-align: right;\n",
       "    }\n",
       "</style>\n",
       "<table border=\"1\" class=\"dataframe\">\n",
       "  <thead>\n",
       "    <tr style=\"text-align: right;\">\n",
       "      <th></th>\n",
       "      <th>slength</th>\n",
       "      <th>swidth</th>\n",
       "      <th>plength</th>\n",
       "      <th>pwidth</th>\n",
       "      <th>species</th>\n",
       "    </tr>\n",
       "  </thead>\n",
       "  <tbody>\n",
       "    <tr>\n",
       "      <th>0</th>\n",
       "      <td>5.1</td>\n",
       "      <td>3.5</td>\n",
       "      <td>1.4</td>\n",
       "      <td>0.2</td>\n",
       "      <td>Iris-setosa</td>\n",
       "    </tr>\n",
       "    <tr>\n",
       "      <th>1</th>\n",
       "      <td>4.8</td>\n",
       "      <td>3.0</td>\n",
       "      <td>1.4</td>\n",
       "      <td>0.2</td>\n",
       "      <td>Iris-setosa</td>\n",
       "    </tr>\n",
       "    <tr>\n",
       "      <th>2</th>\n",
       "      <td>4.7</td>\n",
       "      <td>3.2</td>\n",
       "      <td>1.3</td>\n",
       "      <td>0.2</td>\n",
       "      <td>Iris-setosa</td>\n",
       "    </tr>\n",
       "    <tr>\n",
       "      <th>3</th>\n",
       "      <td>4.6</td>\n",
       "      <td>3.1</td>\n",
       "      <td>1.5</td>\n",
       "      <td>0.2</td>\n",
       "      <td>Iris-setosa</td>\n",
       "    </tr>\n",
       "    <tr>\n",
       "      <th>4</th>\n",
       "      <td>5.0</td>\n",
       "      <td>3.6</td>\n",
       "      <td>1.4</td>\n",
       "      <td>0.2</td>\n",
       "      <td>Iris-setosa</td>\n",
       "    </tr>\n",
       "  </tbody>\n",
       "</table>\n",
       "</div>"
      ],
      "text/plain": [
       "   slength  swidth  plength  pwidth      species\n",
       "0      5.1     3.5      1.4     0.2  Iris-setosa\n",
       "1      4.8     3.0      1.4     0.2  Iris-setosa\n",
       "2      4.7     3.2      1.3     0.2  Iris-setosa\n",
       "3      4.6     3.1      1.5     0.2  Iris-setosa\n",
       "4      5.0     3.6      1.4     0.2  Iris-setosa"
      ]
     },
     "execution_count": 47,
     "metadata": {},
     "output_type": "execute_result"
    }
   ],
   "source": [
    "iris_df.head()"
   ]
  },
  {
   "cell_type": "markdown",
   "metadata": {},
   "source": [
    "We want to add indices or headers to the dataset"
   ]
  },
  {
   "cell_type": "code",
   "execution_count": 48,
   "metadata": {
    "tags": []
   },
   "outputs": [
    {
     "data": {
      "text/html": [
       "<div>\n",
       "<style scoped>\n",
       "    .dataframe tbody tr th:only-of-type {\n",
       "        vertical-align: middle;\n",
       "    }\n",
       "\n",
       "    .dataframe tbody tr th {\n",
       "        vertical-align: top;\n",
       "    }\n",
       "\n",
       "    .dataframe thead th {\n",
       "        text-align: right;\n",
       "    }\n",
       "</style>\n",
       "<table border=\"1\" class=\"dataframe\">\n",
       "  <thead>\n",
       "    <tr style=\"text-align: right;\">\n",
       "      <th></th>\n",
       "      <th>slength</th>\n",
       "      <th>swidth</th>\n",
       "      <th>plength</th>\n",
       "      <th>pwidth</th>\n",
       "      <th>species</th>\n",
       "    </tr>\n",
       "  </thead>\n",
       "  <tbody>\n",
       "    <tr>\n",
       "      <th>0</th>\n",
       "      <td>5.1</td>\n",
       "      <td>3.5</td>\n",
       "      <td>1.4</td>\n",
       "      <td>0.2</td>\n",
       "      <td>Iris-setosa</td>\n",
       "    </tr>\n",
       "    <tr>\n",
       "      <th>1</th>\n",
       "      <td>4.9</td>\n",
       "      <td>3.0</td>\n",
       "      <td>1.4</td>\n",
       "      <td>0.2</td>\n",
       "      <td>Iris-setosa</td>\n",
       "    </tr>\n",
       "    <tr>\n",
       "      <th>2</th>\n",
       "      <td>4.7</td>\n",
       "      <td>3.2</td>\n",
       "      <td>1.3</td>\n",
       "      <td>0.2</td>\n",
       "      <td>Iris-setosa</td>\n",
       "    </tr>\n",
       "    <tr>\n",
       "      <th>3</th>\n",
       "      <td>4.6</td>\n",
       "      <td>3.1</td>\n",
       "      <td>1.5</td>\n",
       "      <td>0.2</td>\n",
       "      <td>Iris-setosa</td>\n",
       "    </tr>\n",
       "    <tr>\n",
       "      <th>4</th>\n",
       "      <td>5.0</td>\n",
       "      <td>3.6</td>\n",
       "      <td>1.4</td>\n",
       "      <td>0.2</td>\n",
       "      <td>Iris-setosa</td>\n",
       "    </tr>\n",
       "  </tbody>\n",
       "</table>\n",
       "</div>"
      ],
      "text/plain": [
       "   slength  swidth  plength  pwidth      species\n",
       "0      5.1     3.5      1.4     0.2  Iris-setosa\n",
       "1      4.9     3.0      1.4     0.2  Iris-setosa\n",
       "2      4.7     3.2      1.3     0.2  Iris-setosa\n",
       "3      4.6     3.1      1.5     0.2  Iris-setosa\n",
       "4      5.0     3.6      1.4     0.2  Iris-setosa"
      ]
     },
     "execution_count": 48,
     "metadata": {},
     "output_type": "execute_result"
    }
   ],
   "source": [
    "iris_df = pd.read_csv('iris.csv', names = ['slength','swidth','plength','pwidth','species'])\n",
    "iris_df.head()"
   ]
  },
  {
   "cell_type": "code",
   "execution_count": 49,
   "metadata": {
    "id": "R0sDmvr006qN"
   },
   "outputs": [
    {
     "data": {
      "text/plain": [
       "4.9"
      ]
     },
     "execution_count": 49,
     "metadata": {},
     "output_type": "execute_result"
    }
   ],
   "source": [
    "# access single cell by integer numbers (row 149, column 0 / first column), faster than loc and iloc\n",
    "iris_df.iat[1,0]"
   ]
  },
  {
   "cell_type": "code",
   "execution_count": 50,
   "metadata": {
    "id": "HglpOox106qN"
   },
   "outputs": [
    {
     "data": {
      "text/html": [
       "<div>\n",
       "<style scoped>\n",
       "    .dataframe tbody tr th:only-of-type {\n",
       "        vertical-align: middle;\n",
       "    }\n",
       "\n",
       "    .dataframe tbody tr th {\n",
       "        vertical-align: top;\n",
       "    }\n",
       "\n",
       "    .dataframe thead th {\n",
       "        text-align: right;\n",
       "    }\n",
       "</style>\n",
       "<table border=\"1\" class=\"dataframe\">\n",
       "  <thead>\n",
       "    <tr style=\"text-align: right;\">\n",
       "      <th></th>\n",
       "      <th>slength</th>\n",
       "      <th>swidth</th>\n",
       "      <th>plength</th>\n",
       "      <th>pwidth</th>\n",
       "      <th>species</th>\n",
       "    </tr>\n",
       "  </thead>\n",
       "  <tbody>\n",
       "    <tr>\n",
       "      <th>0</th>\n",
       "      <td>5.1</td>\n",
       "      <td>3.5</td>\n",
       "      <td>1.4</td>\n",
       "      <td>0.2</td>\n",
       "      <td>Iris-setosa</td>\n",
       "    </tr>\n",
       "    <tr>\n",
       "      <th>1</th>\n",
       "      <td>4.8</td>\n",
       "      <td>3.0</td>\n",
       "      <td>1.4</td>\n",
       "      <td>0.2</td>\n",
       "      <td>Iris-setosa</td>\n",
       "    </tr>\n",
       "    <tr>\n",
       "      <th>2</th>\n",
       "      <td>4.7</td>\n",
       "      <td>3.2</td>\n",
       "      <td>1.3</td>\n",
       "      <td>0.2</td>\n",
       "      <td>Iris-setosa</td>\n",
       "    </tr>\n",
       "    <tr>\n",
       "      <th>3</th>\n",
       "      <td>4.6</td>\n",
       "      <td>3.1</td>\n",
       "      <td>1.5</td>\n",
       "      <td>0.2</td>\n",
       "      <td>Iris-setosa</td>\n",
       "    </tr>\n",
       "    <tr>\n",
       "      <th>4</th>\n",
       "      <td>5.0</td>\n",
       "      <td>3.6</td>\n",
       "      <td>1.4</td>\n",
       "      <td>0.2</td>\n",
       "      <td>Iris-setosa</td>\n",
       "    </tr>\n",
       "  </tbody>\n",
       "</table>\n",
       "</div>"
      ],
      "text/plain": [
       "   slength  swidth  plength  pwidth      species\n",
       "0      5.1     3.5      1.4     0.2  Iris-setosa\n",
       "1      4.8     3.0      1.4     0.2  Iris-setosa\n",
       "2      4.7     3.2      1.3     0.2  Iris-setosa\n",
       "3      4.6     3.1      1.5     0.2  Iris-setosa\n",
       "4      5.0     3.6      1.4     0.2  Iris-setosa"
      ]
     },
     "execution_count": 50,
     "metadata": {},
     "output_type": "execute_result"
    }
   ],
   "source": [
    "# Assign a new value\n",
    "iris_df.iat[1,0] = 4.8\n",
    "iris_df.head()"
   ]
  },
  {
   "cell_type": "markdown",
   "metadata": {
    "id": "jf6gF3jr06qN"
   },
   "source": [
    "Indexing a group/subset of the dataframe by loc (column names) or iloc (index)"
   ]
  },
  {
   "cell_type": "code",
   "execution_count": 51,
   "metadata": {
    "id": "CvKPHzP106qO"
   },
   "outputs": [
    {
     "data": {
      "text/html": [
       "<div>\n",
       "<style scoped>\n",
       "    .dataframe tbody tr th:only-of-type {\n",
       "        vertical-align: middle;\n",
       "    }\n",
       "\n",
       "    .dataframe tbody tr th {\n",
       "        vertical-align: top;\n",
       "    }\n",
       "\n",
       "    .dataframe thead th {\n",
       "        text-align: right;\n",
       "    }\n",
       "</style>\n",
       "<table border=\"1\" class=\"dataframe\">\n",
       "  <thead>\n",
       "    <tr style=\"text-align: right;\">\n",
       "      <th></th>\n",
       "      <th>plength</th>\n",
       "      <th>pwidth</th>\n",
       "    </tr>\n",
       "  </thead>\n",
       "  <tbody>\n",
       "    <tr>\n",
       "      <th>0</th>\n",
       "      <td>1.4</td>\n",
       "      <td>0.2</td>\n",
       "    </tr>\n",
       "    <tr>\n",
       "      <th>2</th>\n",
       "      <td>1.3</td>\n",
       "      <td>0.2</td>\n",
       "    </tr>\n",
       "    <tr>\n",
       "      <th>4</th>\n",
       "      <td>1.4</td>\n",
       "      <td>0.2</td>\n",
       "    </tr>\n",
       "    <tr>\n",
       "      <th>6</th>\n",
       "      <td>1.4</td>\n",
       "      <td>0.3</td>\n",
       "    </tr>\n",
       "    <tr>\n",
       "      <th>8</th>\n",
       "      <td>1.4</td>\n",
       "      <td>0.2</td>\n",
       "    </tr>\n",
       "  </tbody>\n",
       "</table>\n",
       "</div>"
      ],
      "text/plain": [
       "   plength  pwidth\n",
       "0      1.4     0.2\n",
       "2      1.3     0.2\n",
       "4      1.4     0.2\n",
       "6      1.4     0.3\n",
       "8      1.4     0.2"
      ]
     },
     "execution_count": 51,
     "metadata": {},
     "output_type": "execute_result"
    }
   ],
   "source": [
    "iris_df.iloc[0:10:2,2:4] #index rows 0 - 10 at every other row, and columns 2 - 4."
   ]
  },
  {
   "cell_type": "markdown",
   "metadata": {
    "id": "8holfyZd06qO"
   },
   "source": [
    "**Important**\n",
    "When you assign a (subset) of dataframe to a new one like above, no copy is made. This means that if you change values of the new frame, also the orginal frame will be changed. If you want a copy, you need to use the copy method."
   ]
  },
  {
   "cell_type": "markdown",
   "metadata": {
    "id": "9n8pa6UH06qO"
   },
   "source": [
    "Indexing by column names..."
   ]
  },
  {
   "cell_type": "code",
   "execution_count": 90,
   "metadata": {
    "id": "ZapUeo_x06qO"
   },
   "outputs": [
    {
     "data": {
      "text/plain": [
       "swidth     3.048299\n",
       "plength    3.758667\n",
       "dtype: float64"
      ]
     },
     "execution_count": 90,
     "metadata": {},
     "output_type": "execute_result"
    }
   ],
   "source": [
    "selected_columns = iris_df[['swidth', 'plength']]\n",
    "selected_columns.mean()"
   ]
  },
  {
   "cell_type": "markdown",
   "metadata": {
    "id": "R0Sqgdk106qP"
   },
   "source": [
    "Selecting (filtering) by column values df = dataframe[dataframe['species']=='Iris-setosa']"
   ]
  },
  {
   "cell_type": "code",
   "execution_count": 53,
   "metadata": {
    "id": "BPqUoUYR06qP"
   },
   "outputs": [],
   "source": [
    "setosa_only_df = iris_df[iris_df['species']=='Iris-setosa'] #making a new data frame that includes information only on the 'iris setosa' species\n"
   ]
  },
  {
   "cell_type": "code",
   "execution_count": 35,
   "metadata": {
    "id": "cp2J-Y0E06qP"
   },
   "outputs": [
    {
     "data": {
      "text/html": [
       "<div>\n",
       "<style scoped>\n",
       "    .dataframe tbody tr th:only-of-type {\n",
       "        vertical-align: middle;\n",
       "    }\n",
       "\n",
       "    .dataframe tbody tr th {\n",
       "        vertical-align: top;\n",
       "    }\n",
       "\n",
       "    .dataframe thead th {\n",
       "        text-align: right;\n",
       "    }\n",
       "</style>\n",
       "<table border=\"1\" class=\"dataframe\">\n",
       "  <thead>\n",
       "    <tr style=\"text-align: right;\">\n",
       "      <th></th>\n",
       "      <th>slength</th>\n",
       "      <th>swidth</th>\n",
       "      <th>plength</th>\n",
       "      <th>pwidth</th>\n",
       "      <th>species</th>\n",
       "    </tr>\n",
       "  </thead>\n",
       "  <tbody>\n",
       "    <tr>\n",
       "      <th>0</th>\n",
       "      <td>5.1</td>\n",
       "      <td>3.5</td>\n",
       "      <td>1.4</td>\n",
       "      <td>0.2</td>\n",
       "      <td>Iris-setosa</td>\n",
       "    </tr>\n",
       "    <tr>\n",
       "      <th>1</th>\n",
       "      <td>4.8</td>\n",
       "      <td>3.0</td>\n",
       "      <td>1.4</td>\n",
       "      <td>0.2</td>\n",
       "      <td>Iris-setosa</td>\n",
       "    </tr>\n",
       "    <tr>\n",
       "      <th>...</th>\n",
       "      <td>...</td>\n",
       "      <td>...</td>\n",
       "      <td>...</td>\n",
       "      <td>...</td>\n",
       "      <td>...</td>\n",
       "    </tr>\n",
       "    <tr>\n",
       "      <th>48</th>\n",
       "      <td>5.3</td>\n",
       "      <td>3.7</td>\n",
       "      <td>1.5</td>\n",
       "      <td>0.2</td>\n",
       "      <td>Iris-setosa</td>\n",
       "    </tr>\n",
       "    <tr>\n",
       "      <th>49</th>\n",
       "      <td>5.0</td>\n",
       "      <td>3.3</td>\n",
       "      <td>1.4</td>\n",
       "      <td>0.2</td>\n",
       "      <td>Iris-setosa</td>\n",
       "    </tr>\n",
       "  </tbody>\n",
       "</table>\n",
       "<p>50 rows × 5 columns</p>\n",
       "</div>"
      ],
      "text/plain": [
       "    slength  swidth  plength  pwidth      species\n",
       "0       5.1     3.5      1.4     0.2  Iris-setosa\n",
       "1       4.8     3.0      1.4     0.2  Iris-setosa\n",
       "..      ...     ...      ...     ...          ...\n",
       "48      5.3     3.7      1.5     0.2  Iris-setosa\n",
       "49      5.0     3.3      1.4     0.2  Iris-setosa\n",
       "\n",
       "[50 rows x 5 columns]"
      ]
     },
     "execution_count": 35,
     "metadata": {},
     "output_type": "execute_result"
    }
   ],
   "source": [
    "setosa_only_df"
   ]
  },
  {
   "cell_type": "code",
   "execution_count": 54,
   "metadata": {
    "tags": []
   },
   "outputs": [
    {
     "name": "stdout",
     "output_type": "stream",
     "text": [
      "<class 'pandas.core.frame.DataFrame'>\n",
      "RangeIndex: 150 entries, 0 to 149\n",
      "Data columns (total 5 columns):\n",
      " #   Column   Non-Null Count  Dtype  \n",
      "---  ------   --------------  -----  \n",
      " 0   slength  150 non-null    float64\n",
      " 1   swidth   150 non-null    float64\n",
      " 2   plength  150 non-null    float64\n",
      " 3   pwidth   150 non-null    float64\n",
      " 4   species  150 non-null    object \n",
      "dtypes: float64(4), object(1)\n",
      "memory usage: 6.0+ KB\n"
     ]
    }
   ],
   "source": [
    "iris_df.info()"
   ]
  },
  {
   "cell_type": "markdown",
   "metadata": {
    "id": "IO6qtwYH06qP"
   },
   "source": [
    "Vectorized dataframe manipulations..."
   ]
  },
  {
   "cell_type": "code",
   "execution_count": 41,
   "metadata": {
    "id": "3dN1twE406qP"
   },
   "outputs": [
    {
     "data": {
      "text/plain": [
       "0     2.8\n",
       "1     2.8\n",
       "     ... \n",
       "48    3.0\n",
       "49    2.8\n",
       "Name: plength, Length: 50, dtype: float64"
      ]
     },
     "execution_count": 41,
     "metadata": {},
     "output_type": "execute_result"
    }
   ],
   "source": [
    "setosa_only_df['plength']*2."
   ]
  },
  {
   "cell_type": "code",
   "execution_count": 42,
   "metadata": {
    "tags": []
   },
   "outputs": [
    {
     "data": {
      "text/plain": [
       "1.464"
      ]
     },
     "execution_count": 42,
     "metadata": {},
     "output_type": "execute_result"
    }
   ],
   "source": [
    "setosa_only_df['plength'].mean()"
   ]
  },
  {
   "cell_type": "markdown",
   "metadata": {
    "id": "peiXnTgAxw08"
   },
   "source": [
    "Grouping ..."
   ]
  },
  {
   "cell_type": "code",
   "execution_count": 43,
   "metadata": {
    "id": "SPJDgpc006qP"
   },
   "outputs": [
    {
     "name": "stdout",
     "output_type": "stream",
     "text": [
      "<pandas.core.groupby.generic.DataFrameGroupBy object at 0x13e91a310>\n"
     ]
    },
    {
     "data": {
      "text/html": [
       "<div>\n",
       "<style scoped>\n",
       "    .dataframe tbody tr th:only-of-type {\n",
       "        vertical-align: middle;\n",
       "    }\n",
       "\n",
       "    .dataframe tbody tr th {\n",
       "        vertical-align: top;\n",
       "    }\n",
       "\n",
       "    .dataframe thead th {\n",
       "        text-align: right;\n",
       "    }\n",
       "</style>\n",
       "<table border=\"1\" class=\"dataframe\">\n",
       "  <thead>\n",
       "    <tr style=\"text-align: right;\">\n",
       "      <th></th>\n",
       "      <th>slength</th>\n",
       "      <th>swidth</th>\n",
       "      <th>plength</th>\n",
       "      <th>pwidth</th>\n",
       "      <th>species</th>\n",
       "    </tr>\n",
       "  </thead>\n",
       "  <tbody>\n",
       "    <tr>\n",
       "      <th>100</th>\n",
       "      <td>6.3</td>\n",
       "      <td>3.3</td>\n",
       "      <td>6.0</td>\n",
       "      <td>2.5</td>\n",
       "      <td>Iris-virginica</td>\n",
       "    </tr>\n",
       "    <tr>\n",
       "      <th>101</th>\n",
       "      <td>5.8</td>\n",
       "      <td>2.7</td>\n",
       "      <td>5.1</td>\n",
       "      <td>1.9</td>\n",
       "      <td>Iris-virginica</td>\n",
       "    </tr>\n",
       "    <tr>\n",
       "      <th>...</th>\n",
       "      <td>...</td>\n",
       "      <td>...</td>\n",
       "      <td>...</td>\n",
       "      <td>...</td>\n",
       "      <td>...</td>\n",
       "    </tr>\n",
       "    <tr>\n",
       "      <th>148</th>\n",
       "      <td>6.2</td>\n",
       "      <td>3.4</td>\n",
       "      <td>5.4</td>\n",
       "      <td>2.3</td>\n",
       "      <td>Iris-virginica</td>\n",
       "    </tr>\n",
       "    <tr>\n",
       "      <th>149</th>\n",
       "      <td>5.9</td>\n",
       "      <td>3.0</td>\n",
       "      <td>5.1</td>\n",
       "      <td>1.8</td>\n",
       "      <td>Iris-virginica</td>\n",
       "    </tr>\n",
       "  </tbody>\n",
       "</table>\n",
       "<p>50 rows × 5 columns</p>\n",
       "</div>"
      ],
      "text/plain": [
       "     slength  swidth  plength  pwidth         species\n",
       "100      6.3     3.3      6.0     2.5  Iris-virginica\n",
       "101      5.8     2.7      5.1     1.9  Iris-virginica\n",
       "..       ...     ...      ...     ...             ...\n",
       "148      6.2     3.4      5.4     2.3  Iris-virginica\n",
       "149      5.9     3.0      5.1     1.8  Iris-virginica\n",
       "\n",
       "[50 rows x 5 columns]"
      ]
     },
     "execution_count": 43,
     "metadata": {},
     "output_type": "execute_result"
    }
   ],
   "source": [
    "# note that the below code does the same thing as the \"selecting\" or \"filtering\" code in \"filtering by column\" above\n",
    "\n",
    "gdf = iris_df.groupby('species')\n",
    "print(gdf)\n",
    "df_v = gdf.get_group('Iris-virginica')\n",
    "df_v"
   ]
  },
  {
   "cell_type": "markdown",
   "metadata": {
    "id": "NkS6YD7V06qQ"
   },
   "source": [
    "### 4. Sorting on a DataFrame\n",
    "\n",
    "..."
   ]
  },
  {
   "cell_type": "code",
   "execution_count": 55,
   "metadata": {
    "id": "d1hGqMMk06qQ"
   },
   "outputs": [
    {
     "data": {
      "text/html": [
       "<div>\n",
       "<style scoped>\n",
       "    .dataframe tbody tr th:only-of-type {\n",
       "        vertical-align: middle;\n",
       "    }\n",
       "\n",
       "    .dataframe tbody tr th {\n",
       "        vertical-align: top;\n",
       "    }\n",
       "\n",
       "    .dataframe thead th {\n",
       "        text-align: right;\n",
       "    }\n",
       "</style>\n",
       "<table border=\"1\" class=\"dataframe\">\n",
       "  <thead>\n",
       "    <tr style=\"text-align: right;\">\n",
       "      <th></th>\n",
       "      <th>slength</th>\n",
       "      <th>swidth</th>\n",
       "      <th>plength</th>\n",
       "      <th>pwidth</th>\n",
       "      <th>species</th>\n",
       "    </tr>\n",
       "  </thead>\n",
       "  <tbody>\n",
       "    <tr>\n",
       "      <th>22</th>\n",
       "      <td>4.6</td>\n",
       "      <td>3.6</td>\n",
       "      <td>1.0</td>\n",
       "      <td>0.2</td>\n",
       "      <td>Iris-setosa</td>\n",
       "    </tr>\n",
       "    <tr>\n",
       "      <th>13</th>\n",
       "      <td>4.3</td>\n",
       "      <td>3.0</td>\n",
       "      <td>1.1</td>\n",
       "      <td>0.1</td>\n",
       "      <td>Iris-setosa</td>\n",
       "    </tr>\n",
       "    <tr>\n",
       "      <th>14</th>\n",
       "      <td>5.8</td>\n",
       "      <td>4.0</td>\n",
       "      <td>1.2</td>\n",
       "      <td>0.2</td>\n",
       "      <td>Iris-setosa</td>\n",
       "    </tr>\n",
       "    <tr>\n",
       "      <th>35</th>\n",
       "      <td>5.0</td>\n",
       "      <td>3.2</td>\n",
       "      <td>1.2</td>\n",
       "      <td>0.2</td>\n",
       "      <td>Iris-setosa</td>\n",
       "    </tr>\n",
       "    <tr>\n",
       "      <th>2</th>\n",
       "      <td>4.7</td>\n",
       "      <td>3.2</td>\n",
       "      <td>1.3</td>\n",
       "      <td>0.2</td>\n",
       "      <td>Iris-setosa</td>\n",
       "    </tr>\n",
       "    <tr>\n",
       "      <th>...</th>\n",
       "      <td>...</td>\n",
       "      <td>...</td>\n",
       "      <td>...</td>\n",
       "      <td>...</td>\n",
       "      <td>...</td>\n",
       "    </tr>\n",
       "    <tr>\n",
       "      <th>131</th>\n",
       "      <td>7.9</td>\n",
       "      <td>3.8</td>\n",
       "      <td>6.4</td>\n",
       "      <td>2.0</td>\n",
       "      <td>Iris-virginica</td>\n",
       "    </tr>\n",
       "    <tr>\n",
       "      <th>105</th>\n",
       "      <td>7.6</td>\n",
       "      <td>3.0</td>\n",
       "      <td>6.6</td>\n",
       "      <td>2.1</td>\n",
       "      <td>Iris-virginica</td>\n",
       "    </tr>\n",
       "    <tr>\n",
       "      <th>122</th>\n",
       "      <td>7.7</td>\n",
       "      <td>2.8</td>\n",
       "      <td>6.7</td>\n",
       "      <td>2.0</td>\n",
       "      <td>Iris-virginica</td>\n",
       "    </tr>\n",
       "    <tr>\n",
       "      <th>117</th>\n",
       "      <td>7.7</td>\n",
       "      <td>3.8</td>\n",
       "      <td>6.7</td>\n",
       "      <td>2.2</td>\n",
       "      <td>Iris-virginica</td>\n",
       "    </tr>\n",
       "    <tr>\n",
       "      <th>118</th>\n",
       "      <td>7.7</td>\n",
       "      <td>2.6</td>\n",
       "      <td>6.9</td>\n",
       "      <td>2.3</td>\n",
       "      <td>Iris-virginica</td>\n",
       "    </tr>\n",
       "  </tbody>\n",
       "</table>\n",
       "<p>150 rows × 5 columns</p>\n",
       "</div>"
      ],
      "text/plain": [
       "     slength  swidth  plength  pwidth         species\n",
       "22       4.6     3.6      1.0     0.2     Iris-setosa\n",
       "13       4.3     3.0      1.1     0.1     Iris-setosa\n",
       "14       5.8     4.0      1.2     0.2     Iris-setosa\n",
       "35       5.0     3.2      1.2     0.2     Iris-setosa\n",
       "2        4.7     3.2      1.3     0.2     Iris-setosa\n",
       "..       ...     ...      ...     ...             ...\n",
       "131      7.9     3.8      6.4     2.0  Iris-virginica\n",
       "105      7.6     3.0      6.6     2.1  Iris-virginica\n",
       "122      7.7     2.8      6.7     2.0  Iris-virginica\n",
       "117      7.7     3.8      6.7     2.2  Iris-virginica\n",
       "118      7.7     2.6      6.9     2.3  Iris-virginica\n",
       "\n",
       "[150 rows x 5 columns]"
      ]
     },
     "execution_count": 55,
     "metadata": {},
     "output_type": "execute_result"
    }
   ],
   "source": [
    "iris_df.sort_values(['plength','pwidth']) #sort the rows by the values of 'plength' and then 'pwidth'\n"
   ]
  },
  {
   "cell_type": "markdown",
   "metadata": {
    "id": "2xGm6-8W06qQ"
   },
   "source": [
    "You may measure the time needed for the execution, e.g. with the operating system command \"time\". System commands are executed with a %:"
   ]
  },
  {
   "cell_type": "code",
   "execution_count": 56,
   "metadata": {
    "id": "PyaC-Aj006qQ"
   },
   "outputs": [
    {
     "name": "stdout",
     "output_type": "stream",
     "text": [
      "CPU times: user 2.95 ms, sys: 1.77 ms, total: 4.72 ms\n",
      "Wall time: 3.53 ms\n"
     ]
    },
    {
     "data": {
      "text/html": [
       "<div>\n",
       "<style scoped>\n",
       "    .dataframe tbody tr th:only-of-type {\n",
       "        vertical-align: middle;\n",
       "    }\n",
       "\n",
       "    .dataframe tbody tr th {\n",
       "        vertical-align: top;\n",
       "    }\n",
       "\n",
       "    .dataframe thead th {\n",
       "        text-align: right;\n",
       "    }\n",
       "</style>\n",
       "<table border=\"1\" class=\"dataframe\">\n",
       "  <thead>\n",
       "    <tr style=\"text-align: right;\">\n",
       "      <th></th>\n",
       "      <th>slength</th>\n",
       "      <th>swidth</th>\n",
       "      <th>plength</th>\n",
       "      <th>pwidth</th>\n",
       "      <th>species</th>\n",
       "    </tr>\n",
       "  </thead>\n",
       "  <tbody>\n",
       "    <tr>\n",
       "      <th>22</th>\n",
       "      <td>4.6</td>\n",
       "      <td>3.6</td>\n",
       "      <td>1.0</td>\n",
       "      <td>0.2</td>\n",
       "      <td>Iris-setosa</td>\n",
       "    </tr>\n",
       "    <tr>\n",
       "      <th>13</th>\n",
       "      <td>4.3</td>\n",
       "      <td>3.0</td>\n",
       "      <td>1.1</td>\n",
       "      <td>0.1</td>\n",
       "      <td>Iris-setosa</td>\n",
       "    </tr>\n",
       "    <tr>\n",
       "      <th>14</th>\n",
       "      <td>5.8</td>\n",
       "      <td>4.0</td>\n",
       "      <td>1.2</td>\n",
       "      <td>0.2</td>\n",
       "      <td>Iris-setosa</td>\n",
       "    </tr>\n",
       "    <tr>\n",
       "      <th>35</th>\n",
       "      <td>5.0</td>\n",
       "      <td>3.2</td>\n",
       "      <td>1.2</td>\n",
       "      <td>0.2</td>\n",
       "      <td>Iris-setosa</td>\n",
       "    </tr>\n",
       "    <tr>\n",
       "      <th>2</th>\n",
       "      <td>4.7</td>\n",
       "      <td>3.2</td>\n",
       "      <td>1.3</td>\n",
       "      <td>0.2</td>\n",
       "      <td>Iris-setosa</td>\n",
       "    </tr>\n",
       "    <tr>\n",
       "      <th>...</th>\n",
       "      <td>...</td>\n",
       "      <td>...</td>\n",
       "      <td>...</td>\n",
       "      <td>...</td>\n",
       "      <td>...</td>\n",
       "    </tr>\n",
       "    <tr>\n",
       "      <th>131</th>\n",
       "      <td>7.9</td>\n",
       "      <td>3.8</td>\n",
       "      <td>6.4</td>\n",
       "      <td>2.0</td>\n",
       "      <td>Iris-virginica</td>\n",
       "    </tr>\n",
       "    <tr>\n",
       "      <th>105</th>\n",
       "      <td>7.6</td>\n",
       "      <td>3.0</td>\n",
       "      <td>6.6</td>\n",
       "      <td>2.1</td>\n",
       "      <td>Iris-virginica</td>\n",
       "    </tr>\n",
       "    <tr>\n",
       "      <th>122</th>\n",
       "      <td>7.7</td>\n",
       "      <td>2.8</td>\n",
       "      <td>6.7</td>\n",
       "      <td>2.0</td>\n",
       "      <td>Iris-virginica</td>\n",
       "    </tr>\n",
       "    <tr>\n",
       "      <th>117</th>\n",
       "      <td>7.7</td>\n",
       "      <td>3.8</td>\n",
       "      <td>6.7</td>\n",
       "      <td>2.2</td>\n",
       "      <td>Iris-virginica</td>\n",
       "    </tr>\n",
       "    <tr>\n",
       "      <th>118</th>\n",
       "      <td>7.7</td>\n",
       "      <td>2.6</td>\n",
       "      <td>6.9</td>\n",
       "      <td>2.3</td>\n",
       "      <td>Iris-virginica</td>\n",
       "    </tr>\n",
       "  </tbody>\n",
       "</table>\n",
       "<p>150 rows × 5 columns</p>\n",
       "</div>"
      ],
      "text/plain": [
       "     slength  swidth  plength  pwidth         species\n",
       "22       4.6     3.6      1.0     0.2     Iris-setosa\n",
       "13       4.3     3.0      1.1     0.1     Iris-setosa\n",
       "14       5.8     4.0      1.2     0.2     Iris-setosa\n",
       "35       5.0     3.2      1.2     0.2     Iris-setosa\n",
       "2        4.7     3.2      1.3     0.2     Iris-setosa\n",
       "..       ...     ...      ...     ...             ...\n",
       "131      7.9     3.8      6.4     2.0  Iris-virginica\n",
       "105      7.6     3.0      6.6     2.1  Iris-virginica\n",
       "122      7.7     2.8      6.7     2.0  Iris-virginica\n",
       "117      7.7     3.8      6.7     2.2  Iris-virginica\n",
       "118      7.7     2.6      6.9     2.3  Iris-virginica\n",
       "\n",
       "[150 rows x 5 columns]"
      ]
     },
     "execution_count": 56,
     "metadata": {},
     "output_type": "execute_result"
    }
   ],
   "source": [
    "%time iris_df.sort_values(['plength','pwidth'])"
   ]
  },
  {
   "cell_type": "code",
   "execution_count": 74,
   "metadata": {
    "id": "IbQ1Wuqc06qQ"
   },
   "outputs": [
    {
     "name": "stdout",
     "output_type": "stream",
     "text": [
      "total 7856\n",
      "-rw-rw-r--@  1 pbecerra  staff  3559904 Aug 22 16:33 CHE_adm.zip\n",
      "-rw-rw-r--@  1 pbecerra  staff   236403 Aug 22 16:33 M1-D1-DM-Sol.ipynb\n",
      "-rw-rw-r--@  1 pbecerra  staff    24817 Aug 22 16:33 M1-D1-DM.ipynb\n",
      "drwxrwxr-x@ 12 pbecerra  staff      384 Aug 22 16:33 \u001b[1m\u001b[36mM1-D2-DB\u001b[m\u001b[m/\n",
      "-rw-rw-r--@  1 pbecerra  staff    19512 Aug 22 16:33 M1-D2-DV-Sol.ipynb\n",
      "-rw-rw-r--@  1 pbecerra  staff    16639 Aug 22 16:33 M1-D2-DV.ipynb\n",
      "-rw-rw-r--@  1 pbecerra  staff    15572 Aug 22 16:33 M1-D3-MySQL-Ex.ipynb\n",
      "-rw-rw-r--@  1 pbecerra  staff    28519 Aug 22 16:33 M1-D3-MySQL-Solution.ipynb\n",
      "-rw-rw-r--@  1 pbecerra  staff    13724 Aug 22 16:33 M1-D3-WWW.ipynb\n",
      "-rw-rw-r--@  1 pbecerra  staff    70028 Aug 23 15:46 M1_D1_DM.ipynb\n",
      "drwxrwxr-x@  6 pbecerra  staff      192 Aug 23 11:53 \u001b[1m\u001b[36mM1_Web_Scraping\u001b[m\u001b[m/\n",
      "-rw-rw-r--@  1 pbecerra  staff      817 Aug 22 16:33 Readme.md\n",
      "-rw-rw-r--@  1 pbecerra  staff      619 Aug 22 16:33 covid-per-canton.csv\n",
      "-rw-rw-r--@  1 pbecerra  staff     4551 Aug 22 16:33 iris.csv\n"
     ]
    }
   ],
   "source": [
    "# list the file in your current directory with the linux command ls\n",
    "%ls -l"
   ]
  },
  {
   "cell_type": "markdown",
   "metadata": {
    "id": "vdiSXL6rXYI3"
   },
   "source": [
    "Here is a cheat sheet for common linux commands: https://files.fosswire.com/2007/08/fwunixref.pdf"
   ]
  },
  {
   "cell_type": "code",
   "execution_count": 75,
   "metadata": {
    "tags": []
   },
   "outputs": [
    {
     "data": {
      "text/plain": [
       "'/Users/pbecerra/Library/CloudStorage/Dropbox/UNIBE/CAS_Bern/datascience/Applied-Data-Science-git/Module-1'"
      ]
     },
     "execution_count": 75,
     "metadata": {},
     "output_type": "execute_result"
    }
   ],
   "source": [
    "%pwd"
   ]
  },
  {
   "cell_type": "markdown",
   "metadata": {
    "id": "d6I2Xd1d06qQ"
   },
   "source": [
    "### 5. Filtering on a DataFrame\n",
    "..."
   ]
  },
  {
   "cell_type": "code",
   "execution_count": 57,
   "metadata": {
    "id": "XYCwukeI06qR"
   },
   "outputs": [
    {
     "data": {
      "text/plain": [
       "0       True\n",
       "1      False\n",
       "2      False\n",
       "3      False\n",
       "4      False\n",
       "       ...  \n",
       "145     True\n",
       "146     True\n",
       "147     True\n",
       "148     True\n",
       "149     True\n",
       "Name: slength, Length: 150, dtype: bool"
      ]
     },
     "execution_count": 57,
     "metadata": {},
     "output_type": "execute_result"
    }
   ],
   "source": [
    "# Create a dataframe with one column of boolean values that say whether the values in slength are larger than 5.0\n",
    "# Should returns a vector with boolean values\n",
    "iris_df['slength'] > 5.0\n"
   ]
  },
  {
   "cell_type": "code",
   "execution_count": 80,
   "metadata": {
    "id": "qjnWw_T406qR"
   },
   "outputs": [],
   "source": [
    "# We can apply the filtering result to a new dataframe\n",
    "filtered_df = [iris_df['slength'] > 5.0]\n"
   ]
  },
  {
   "cell_type": "code",
   "execution_count": 81,
   "metadata": {
    "id": "6Widtyr806qR"
   },
   "outputs": [
    {
     "name": "stdout",
     "output_type": "stream",
     "text": [
      "[0       True\n",
      "1      False\n",
      "2      False\n",
      "3      False\n",
      "4      False\n",
      "       ...  \n",
      "145     True\n",
      "146     True\n",
      "147     True\n",
      "148     True\n",
      "149     True\n",
      "Name: slength, Length: 150, dtype: bool]\n"
     ]
    }
   ],
   "source": [
    "# And print it\n",
    "print(filtered_df)"
   ]
  },
  {
   "cell_type": "markdown",
   "metadata": {
    "id": "Rg_y8Ift06qR"
   },
   "source": [
    "### 6. Missing or bad data\n",
    "\n",
    "Datasets, before they are \"cleaned\", may contain missing or wrongly formated values. There are DataFrame methods to deal with this:\n",
    "\n",
    "- DataFrame.dropna([axis, how, thresh, …])\tRemove missing values.\n",
    "- DataFrame.fillna([value, method, axis, …])\tFill NA/NaN values using the specified method\n",
    "- DataFrame.replace([to_replace, value, …])\tReplace values given in to_replace with value.\n",
    "- DataFrame.interpolate([method, axis, limit, …])\tInterpolate values according to different methods.\n",
    "\n",
    "Retrieving and cleaning data is often the most time consuming part in a data science project."
   ]
  },
  {
   "cell_type": "markdown",
   "metadata": {
    "id": "HN7OXDjJ06qR"
   },
   "source": [
    "### 7. Exporting dataframes (I/O)\n",
    "\n",
    "DataFrame has several export methods. (html, hdf5, ascii, excel etc). Let's write our file to a text file in a csv format."
   ]
  },
  {
   "cell_type": "code",
   "execution_count": 58,
   "metadata": {
    "id": "yhxN8bF_06qR"
   },
   "outputs": [],
   "source": [
    "iris_df.to_csv('clean_iris.csv')"
   ]
  },
  {
   "cell_type": "code",
   "execution_count": 59,
   "metadata": {
    "id": "b-27C7Vz06qR"
   },
   "outputs": [
    {
     "name": "stdout",
     "output_type": "stream",
     "text": [
      "-rw-r--r--@ 1 pbecerra  staff  5079 Aug 25 14:53 clean_iris.csv\n",
      "-rw-rw-r--@ 1 pbecerra  staff   619 Aug 22 16:33 covid-per-canton.csv\n",
      "-rw-rw-r--@ 1 pbecerra  staff  4551 Aug 22 16:33 iris.csv\n"
     ]
    }
   ],
   "source": [
    "%ls -l *.csv"
   ]
  },
  {
   "cell_type": "markdown",
   "metadata": {
    "id": "Z-Y9fLm6YYlH"
   },
   "source": [
    "What happens with our files when we close our colab session?"
   ]
  },
  {
   "cell_type": "markdown",
   "metadata": {},
   "source": [
    "A: In colab, they will disappear, but in a local (anaconda) Jupyter Notebook, they will be saved in the local copy"
   ]
  },
  {
   "cell_type": "markdown",
   "metadata": {
    "id": "Q1No9Vhr06qS"
   },
   "source": [
    "### 8. Metadata\n",
    "\n",
    "\n",
    "Metadata is data about the data, e.g. when was it collected, under which conditions, calibration etc.\n",
    "Metadata is normally not part of the statistical data analysis, however, needed for understanding and reproducibilty.\n",
    "\n",
    "DataFrame is not really made for storing metadata (should be done separately), but one can add new attributes to a dataframe:\n"
   ]
  },
  {
   "cell_type": "code",
   "execution_count": null,
   "metadata": {
    "id": "HQ7Q2lT306qS"
   },
   "outputs": [],
   "source": []
  },
  {
   "cell_type": "code",
   "execution_count": null,
   "metadata": {
    "id": "u0FTwHXVcz9s"
   },
   "outputs": [],
   "source": []
  },
  {
   "cell_type": "markdown",
   "metadata": {
    "id": "Ml-Nha8Dc5hv"
   },
   "source": [
    "Data repositories often use so-called Data Cards for metadata. See for example: https://www.kaggle.com/datasets/uciml/iris"
   ]
  },
  {
   "cell_type": "markdown",
   "metadata": {
    "id": "gm5NcJsD06qS"
   },
   "source": [
    "### 9. Working on the filesystem with the os module\n",
    "\n",
    "When managing large datasets, one often has to organise files in the file system. This includes finding them, moving and copying them, creating new folders/directories, renaming them etc. This can easily be done from Python with the os (operating system) module.\n",
    "\n",
    "Try to understand the following code and alter it to do something else."
   ]
  },
  {
   "cell_type": "code",
   "execution_count": 85,
   "metadata": {
    "id": "8Td_AnJg06qS"
   },
   "outputs": [],
   "source": [
    "import os\n",
    "\n",
    "new_dir = os.getcwd() +'/newnbdir' # Get the current directory into a string, add /newnbdir to the string\n",
    "#os.makedirs(new_dir)               # Create the newnbdir folder\n",
    "files = os.listdir()               # List the files in the current folder\n",
    "nb_files = []                      # Create an empty list\n",
    "for file in files:                 # iterate through the 'files' list that lists all the files in the current folder\n",
    "    if 'csv' in file and file[0]!='.':  # if the 'csv' string is present in the 'file' element of the 'files' list, and if the element does not start with a period...\n",
    "        nb_files.append(file)             # ...append the 'file' element in 'files' to the new list\n",
    "for file in nb_files:              # after the above completes, for every element in the nb_files list...\n",
    "    os.system('cp '+file+' '+new_dir+'/') # ...copy that actual file (unix commands) into the newly made directory"
   ]
  },
  {
   "cell_type": "code",
   "execution_count": 60,
   "metadata": {
    "id": "D0mwR_jFZsbk"
   },
   "outputs": [
    {
     "name": "stdout",
     "output_type": "stream",
     "text": [
      "total 2968\n",
      "-rw-r--r--@ 1 pbecerra  staff  202565 Aug 25 15:11 M1-D1-DM-Sol.ipynb\n",
      "-rw-r--r--@ 1 pbecerra  staff  547153 Aug 25 15:11 M1-D2-DV-Sol.ipynb\n",
      "-rw-r--r--@ 1 pbecerra  staff  583522 Aug 25 15:11 M1-D2-DV.ipynb\n",
      "-rw-r--r--@ 1 pbecerra  staff   14329 Aug 25 15:11 M1-D3-MySQL-Ex.ipynb\n",
      "-rw-r--r--@ 1 pbecerra  staff   28519 Aug 25 15:11 M1-D3-MySQL-Solution.ipynb\n",
      "-rw-r--r--@ 1 pbecerra  staff   13724 Aug 25 15:11 M1-D3-WWW.ipynb\n",
      "-rw-r--r--@ 1 pbecerra  staff   87902 Aug 25 15:11 M1_D1_DM.ipynb\n",
      "-rw-r--r--@ 1 pbecerra  staff      72 Aug 25 15:11 Untitled.ipynb\n",
      "-rw-r--r--@ 1 pbecerra  staff    1252 Aug 25 15:11 Untitled1.ipynb\n",
      "-rw-r--r--@ 1 pbecerra  staff    5079 Aug 25 15:12 clean_iris.csv\n",
      "-rw-r--r--@ 1 pbecerra  staff     619 Aug 25 15:12 covid-per-canton.csv\n",
      "-rw-r--r--@ 1 pbecerra  staff    4551 Aug 25 15:12 iris.csv\n"
     ]
    }
   ],
   "source": [
    "%ls -l newnbdir"
   ]
  },
  {
   "cell_type": "markdown",
   "metadata": {
    "id": "aCEPcsaf06qS"
   },
   "source": [
    "### Exercise 3 (this we may skip if not enough time)\n",
    "\n",
    "Read in the iris dataset from iris.csv into a dataframe. Set the values in column 1 in row 39, 49 and 100 to NaN (use the nan method from the numpy package). Then replace the NaN values to the average value of the respective column. Depending on how you do it, this may be about 10 lines of Python code."
   ]
  },
  {
   "cell_type": "code",
   "execution_count": 70,
   "metadata": {
    "tags": []
   },
   "outputs": [
    {
     "name": "stdout",
     "output_type": "stream",
     "text": [
      "Variable           Type                Data/Info\n",
      "------------------------------------------------\n",
      "covid_df           DataFrame                       date geoRegio<...>[23424 rows x 12 columns]\n",
      "df_v               DataFrame                slength  swidth  ple<...>\\n\\n[50 rows x 5 columns]\n",
      "gdf                DataFrameGroupBy    <pandas.core.groupby.gene<...>By object at 0x13e91a310>\n",
      "i                  int                 9\n",
      "iris_df            DataFrame                slength  swidth  ple<...>n\\n[150 rows x 5 columns]\n",
      "pd                 module              <module 'pandas' from '/U<...>ages/pandas/__init__.py'>\n",
      "selected_columns   DataFrame                swidth  plength\\n0  <...>n\\n[150 rows x 2 columns]\n",
      "setosa_only_df     DataFrame               slength  swidth  plen<...>\\n\\n[50 rows x 5 columns]\n",
      "url                str                 https://www.covid19.admin<...>OVID19VaccPersons_v2.json\n"
     ]
    }
   ],
   "source": [
    "# lists all active variables in the current Jupyter nb and information about them (note that python comments don't work inline with the \"magic\" \n",
    "%whos "
   ]
  },
  {
   "cell_type": "code",
   "execution_count": 125,
   "metadata": {
    "id": "X9VczUOG06qS"
   },
   "outputs": [
    {
     "name": "stdout",
     "output_type": "stream",
     "text": [
      "3.0\n",
      "3.0482993197278914\n",
      "3.5\n",
      "2.3\n",
      "3.2\n",
      "3.5\n",
      "3.8\n",
      "3.0\n",
      "3.8\n",
      "3.2\n",
      "3.7\n",
      "3.0482993197278914\n",
      "3.2\n",
      "3.2\n",
      "3.1\n",
      "2.3\n",
      "2.8\n",
      "2.8\n",
      "3.3\n",
      "2.4\n",
      "2.9\n",
      "2.7\n",
      "2.0\n",
      "3.0\n",
      "2.2\n",
      "2.9\n",
      "2.9\n",
      "3.1\n",
      "3.0\n",
      "2.7\n",
      "2.2\n",
      "2.5\n",
      "3.2\n",
      "2.8\n",
      "2.5\n",
      "2.8\n",
      "2.9\n",
      "3.0\n",
      "2.8\n",
      "3.0\n",
      "2.9\n",
      "2.6\n",
      "2.4\n",
      "2.4\n",
      "2.7\n",
      "2.7\n",
      "3.0\n",
      "3.4\n",
      "3.1\n",
      "2.3\n",
      "3.0\n",
      "2.5\n",
      "2.6\n",
      "3.0\n",
      "2.6\n",
      "2.3\n",
      "2.7\n",
      "3.0\n",
      "2.9\n",
      "2.9\n",
      "2.5\n",
      "2.8\n",
      "3.0482993197278914\n",
      "2.7\n"
     ]
    }
   ],
   "source": [
    "# Solve your exercise here\n",
    "import numpy as np\n",
    "import math as math\n",
    "import matplotlib.pyplot as plt\n",
    "\n",
    "# Assign the new values\n",
    "iris_df.iat[39,1] = np.nan\n",
    "iris_df.iat[49,1] = np.nan\n",
    "iris_df.iat[100,1] = np.nan\n",
    "\n",
    "#option 1\n",
    "#iris_df.iat[39,1] = iris_df.iloc[:,1].mean()\n",
    "#iris_df.iat[49,1] = iris_df.iloc[:,1].mean()\n",
    "#iris_df.iat[100,1] = iris_df.iloc[:,1].mean()\n",
    "\n",
    "#option 2\n",
    "test = iris_df.iloc[:, 1]\n",
    "\n",
    "for i in test:\n",
    "    if math.isnan(i):\n",
    "        mean_value = iris_df.iloc[:, 1].mean()\n",
    "        iris_df.iloc[:, 1].fillna(mean_value, inplace=True)\n",
    " \n",
    "for i in range(38,102):\n",
    "    print(iris_df.iloc[i,1])"
   ]
  },
  {
   "cell_type": "code",
   "execution_count": 103,
   "metadata": {
    "tags": []
   },
   "outputs": [
    {
     "data": {
      "text/plain": [
       "pandas.core.series.Series"
      ]
     },
     "execution_count": 103,
     "metadata": {},
     "output_type": "execute_result"
    }
   ],
   "source": [
    "type(iris_df.iloc[:,1])"
   ]
  },
  {
   "cell_type": "code",
   "execution_count": 97,
   "metadata": {
    "tags": []
   },
   "outputs": [
    {
     "name": "stdout",
     "output_type": "stream",
     "text": [
      "3.0482993197278914\n",
      "3.0482993197278914\n"
     ]
    }
   ],
   "source": [
    "i1 = iris_df.iloc[:,1].mean()\n",
    "print(i1)\n",
    "i2 = iris_df['swidth'].mean()\n",
    "print(i2)"
   ]
  },
  {
   "cell_type": "markdown",
   "metadata": {
    "id": "8MZXt0ei06qT"
   },
   "source": [
    "### Exercise 4\n",
    "\n",
    "Print a sorted list of the weeks and the female deaths with COVID-19 in Switzerland. The weeks with the highest numbers should appear first. This should be doable with about 10 lines of Python. You may need 30 minutes to solve this one.\n"
   ]
  },
  {
   "cell_type": "code",
   "execution_count": null,
   "metadata": {
    "id": "7UPCsexM06qT"
   },
   "outputs": [],
   "source": [
    "import pandas as pd\n",
    "#url = 'https://www.covid19.admin.ch/api/data/20210824-jrvdp23s/sources/COVID19Test_geoRegion_all.json'\n",
    "#df_cov = pd.io.json.read_json(url)\n",
    "#url = 'https://www.covid19.admin.ch/api/data/20210824-jrvdp23s/sources/COVID19Death_geoRegion_sex_w.csv'\n",
    "url = 'https://www.covid19.admin.ch/api/data/20230815-7ixiby4u/sources/COVID19Death_geoRegion_sex_w.csv'\n",
    "\n"
   ]
  },
  {
   "cell_type": "code",
   "execution_count": null,
   "metadata": {
    "id": "0G9RWCiH3DLC"
   },
   "outputs": [],
   "source": []
  },
  {
   "cell_type": "markdown",
   "metadata": {
    "id": "1yOZYAHG06qT"
   },
   "source": [
    "# End of today - please fill this form\n",
    "\n",
    "https://forms.gle/bzDpGLUieVnheZUi6.\n",
    "Have a nice evening and see you tomorrow."
   ]
  },
  {
   "cell_type": "code",
   "execution_count": null,
   "metadata": {
    "id": "wvGsChGa06qT"
   },
   "outputs": [],
   "source": []
  },
  {
   "cell_type": "code",
   "execution_count": null,
   "metadata": {
    "id": "vPndicDx06qT"
   },
   "outputs": [],
   "source": []
  }
 ],
 "metadata": {
  "colab": {
   "include_colab_link": true,
   "provenance": []
  },
  "kernelspec": {
   "display_name": "Python 3 (ipykernel)",
   "language": "python",
   "name": "python3"
  },
  "language_info": {
   "codemirror_mode": {
    "name": "ipython",
    "version": 3
   },
   "file_extension": ".py",
   "mimetype": "text/x-python",
   "name": "python",
   "nbconvert_exporter": "python",
   "pygments_lexer": "ipython3",
   "version": "3.11.4"
  }
 },
 "nbformat": 4,
 "nbformat_minor": 4
}
